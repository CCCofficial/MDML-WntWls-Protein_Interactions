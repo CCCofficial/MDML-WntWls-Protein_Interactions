{
 "cells": [
  {
   "cell_type": "markdown",
   "id": "0ee2e3ff-ab5b-450b-b125-d7daac265a7b",
   "metadata": {},
   "source": [
    "### Objective\n",
    "This notebook the raw `.dcd` files (along with some other files) to unwrap and concat the trajectories for visualization. Note that prior to running this Notebook,\n",
    "the `scripts/00_unwrap_trajectory/read_raw_dcd.tcl` and `scripts/00_unwrap_trajectory/reload.tcl` files must be run as they generate the required input files (written to `scripts/00_unwrap_trajectory/output`)."
   ]
  },
  {
   "cell_type": "code",
   "execution_count": 60,
   "id": "initial_id",
   "metadata": {
    "ExecuteTime": {
     "end_time": "2024-07-11T20:47:54.722705Z",
     "start_time": "2024-07-11T20:47:54.715887Z"
    },
    "collapsed": true,
    "jupyter": {
     "outputs_hidden": true
    }
   },
   "outputs": [],
   "source": [
    "import MDAnalysis as mda\n",
    "import MDAnalysis.transformations.nojump\n",
    "import MDAnalysis\n",
    "import os\n",
    "import MDAnalysis.transformations as trans"
   ]
  },
  {
   "cell_type": "code",
   "execution_count": 61,
   "id": "98ff88da4170a613",
   "metadata": {
    "ExecuteTime": {
     "end_time": "2024-07-11T20:47:54.899612Z",
     "start_time": "2024-07-11T20:47:54.895287Z"
    }
   },
   "outputs": [],
   "source": [
    "dcd_arr = []\n",
    "SYSTEM=\"8a\"\n",
    "copynum=\"01\"\n",
    "dcd_dir = f\"output/wnt{SYSTEM}\"\n",
    "dcd_list = sorted(os.listdir(f\"{dcd_dir}\"))[1:-1]\n",
    "\n",
    "dcd_arr.append([f\"{dcd_dir}/{name}\" for name in dcd_list])\n",
    "dcd_arr = [x for xs in dcd_arr for x in xs]\n",
    "print(dcd_arr)"
   ]
  },
  {
   "cell_type": "code",
   "execution_count": 62,
   "id": "b534ed31de784414",
   "metadata": {
    "ExecuteTime": {
     "end_time": "2024-07-11T20:52:03.167933Z",
     "start_time": "2024-07-11T20:47:57.930637Z"
    }
   },
   "outputs": [],
   "source": [
    "import MDAnalysis.transformations as trans\n",
    "u = mda.Universe(f\"output/wnt{SYSTEM}/total_{copynum}.psf\", dcd_arr)\n",
    "protein = u.select_atoms(\"all\")\n",
    "\n",
    "transforms = [MDAnalysis.transformations.nojump.NoJump(),\n",
    "              trans.center_in_box(protein)]\n",
    "\n",
    "u.trajectory.add_transformations(*transforms)\n",
    "\n",
    "\n",
    "with MDAnalysis.Writer(f\"output/wnt{SYSTEM}/total_{copynum}.dcd\", protein.n_atoms) as W:\n",
    "    for ts in u.trajectory:\n",
    "        W.write(protein)"
   ]
  },
  {
   "cell_type": "code",
   "execution_count": 30,
   "id": "2b92e073d41933ba",
   "metadata": {
    "ExecuteTime": {
     "end_time": "2024-07-09T16:18:05.423954Z",
     "start_time": "2024-07-09T16:17:40.757Z"
    }
   },
   "outputs": [],
   "source": [
    "import MDAnalysis.analysis.rms\n",
    "SYSTEM=\"4\"\n",
    "copy=\"01\"\n",
    "u = mda.Universe(f\"output/wnt{SYSTEM}/total_{copy}.psf\", f\"output/wnt{SYSTEM}/total_{copy}.dcd\")\n",
    "ref = mda.Universe(f\"output/wnt{SYSTEM}/total_{copy}.psf\", f\"output/wnt{SYSTEM}/Wnt4WlsPc_copy_02.pdb\")  # open AdK (PDB ID: 4AKE)\n",
    "R1 = MDAnalysis.analysis.rms.RMSD(u.select_atoms(\"name CA\"), ref.select_atoms(\"name CA\"), center=True)\n",
    "R1.run()\n",
    "\n",
    "SYSTEM=\"3a\"\n",
    "u = mda.Universe(f\"output/wnt{SYSTEM}/total.psf\", f\"output/wnt{SYSTEM}/total.dcd\")\n",
    "protein = u.select_atoms(\"name CA\")\n",
    "R2 = MDAnalysis.analysis.rms.RMSD(u.select_atoms(\"name CA\"), u.select_atoms(\"name CA\"), center=True)\n",
    "R2.run()"
   ]
  },
  {
   "cell_type": "code",
   "execution_count": 32,
   "id": "89d77ab559c45b1f",
   "metadata": {
    "ExecuteTime": {
     "end_time": "2024-07-09T16:19:26.590073Z",
     "start_time": "2024-07-09T16:19:26.017440Z"
    }
   },
   "outputs": [],
   "source": [
    "import matplotlib.pyplot as plt\n",
    "rmsd1 = R1.rmsd.T   # transpose makes it easier for plotting\n",
    "rmsd2 = R2.rmsd.T   # transpose makes it easier for plotting\n",
    "time1 = rmsd1[1]*20\n",
    "time2 = rmsd2[1]*20\n",
    "\n",
    "fig = plt.figure(figsize=(8,4))\n",
    "ax = fig.add_subplot(111)\n",
    "ax.plot(time1, rmsd1[2], 'k-',  label=\"Wnt4a_copy1\")\n",
    "ax.plot(time2, rmsd2[2], 'b-',  label=\"Wnt3a_copy1\")\n",
    "ax.legend(loc=\"best\")\n",
    "ax.set_xlabel(\"time (ps)\")\n",
    "ax.set_ylabel(r\"RMSD ($\\AA$)\")\n",
    "fig.savefig(\"rmsd_all_CORE_LID_NMP_ref1AKE.pdf\")"
   ]
  },
  {
   "cell_type": "code",
   "execution_count": 59,
   "id": "c7bfd255cf7b6087",
   "metadata": {
    "ExecuteTime": {
     "end_time": "2024-07-09T16:51:52.126450Z",
     "start_time": "2024-07-09T16:51:51.765208Z"
    }
   },
   "outputs": [],
   "source": [
    "import numpy as np\n",
    "names = [\"1a\", \"3a\", \"4a\", \"5a\",\"8a\"]\n",
    "\n",
    "for n in names:\n",
    "    ref = mda.Universe(f\"../00_map/input/Wnt{n}_align.pdb\")\n",
    "    numbers = ref.select_atoms(\"segid PROA\").residues.resnums\n",
    "    for num in range(len(numbers) - 1):\n",
    "        if int(numbers[num] + 1) != int(numbers[num+1]):\n",
    "            print(f\"{n}: {num} - {len(numbers) - 1}\")"
   ]
  },
  {
   "cell_type": "code",
   "execution_count": null,
   "id": "84102d2a3b1ebb14",
   "metadata": {},
   "outputs": [],
   "source": []
  }
 ],
 "metadata": {
  "kernelspec": {
   "display_name": "Python 3",
   "language": "python",
   "name": "python3"
  },
  "language_info": {
   "codemirror_mode": {
    "name": "ipython",
    "version": 2
   },
   "file_extension": ".py",
   "mimetype": "text/x-python",
   "name": "python",
   "nbconvert_exporter": "python",
   "pygments_lexer": "ipython2",
   "version": "2.7.6"
  }
 },
 "nbformat": 4,
 "nbformat_minor": 5
}
