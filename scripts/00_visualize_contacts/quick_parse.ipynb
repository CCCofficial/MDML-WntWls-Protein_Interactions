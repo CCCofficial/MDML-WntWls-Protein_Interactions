{
 "cells": [
  {
   "cell_type": "code",
   "id": "initial_id",
   "metadata": {
    "collapsed": true,
    "ExecuteTime": {
     "end_time": "2024-07-02T20:19:58.803753Z",
     "start_time": "2024-07-02T20:19:58.794479Z"
    }
   },
   "source": [
    "import numpy as np\n",
    "\n",
    "protein=\"4\"\n",
    "data = np.savetxt(f\"output/WNT{str(protein)}_threshhold12_labels.txt\", np.array([str(strval.split(\"_\")[0][3:]) + \"_\" +  str(strval.split(\"_\")[1][3:]) for strval in np.loadtxt(f\"../03_finalize_dataset/output/WNT{str(protein)}_threshhold12_labels.txt\", dtype=str)]), fmt='%s')"
   ],
   "execution_count": 29,
   "outputs": []
  },
  {
   "metadata": {},
   "cell_type": "code",
   "execution_count": null,
   "source": "",
   "id": "a90052169ccd0289",
   "outputs": []
  }
 ],
 "metadata": {
  "kernelspec": {
   "display_name": "Python 3",
   "language": "python",
   "name": "python3"
  },
  "language_info": {
   "codemirror_mode": {
    "name": "ipython",
    "version": 2
   },
   "file_extension": ".py",
   "mimetype": "text/x-python",
   "name": "python",
   "nbconvert_exporter": "python",
   "pygments_lexer": "ipython2",
   "version": "2.7.6"
  }
 },
 "nbformat": 4,
 "nbformat_minor": 5
}
