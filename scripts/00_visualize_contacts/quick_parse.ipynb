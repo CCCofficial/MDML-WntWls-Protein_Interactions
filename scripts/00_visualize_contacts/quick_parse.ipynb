{
 "cells": [
  {
   "cell_type": "code",
   "execution_count": 29,
   "id": "initial_id",
   "metadata": {
    "ExecuteTime": {
     "end_time": "2024-07-02T20:19:58.803753Z",
     "start_time": "2024-07-02T20:19:58.794479Z"
    },
    "collapsed": true,
    "jupyter": {
     "outputs_hidden": true
    }
   },
   "outputs": [],
   "source": [
    "import numpy as np\n",
    "\n",
    "#protein=\"4\"\n",
    "#data = np.savetxt(f\"output/WNT{str(protein)}_threshhold12_labels.txt\", np.array([str(strval.split(\"_\")[0][3:]) + \"_\" +  str(strval.split(\"_\")[1][3:]) for strval in np.loadtxt(f\"../03_finalize_dataset/output/WNT{str(protein)}_threshhold12_labels.txt\", dtype=str)]), fmt='%s')"
   ]
  },
  {
   "cell_type": "code",
   "execution_count": null,
   "id": "592fe006-aee6-449f-bc15-0c1f921c3015",
   "metadata": {},
   "outputs": [],
   "source": [
    "proteins= ['1','3a','5a','8a']"
   ]
  },
  {
   "cell_type": "code",
   "execution_count": null,
   "id": "a90052169ccd0289",
   "metadata": {},
   "outputs": [],
   "source": [
    "for protein in proteins:\n",
    "    data = np.loadtxt(f\"../03_finalize_dataset/output/WNT{str(protein)}_threshhold12_labels.txt\", dtype=str)\n",
    "    processed_data = np.array([f\"{parts[0][3:]}_{parts[1][3:]}\" \n",
    "                           for parts in np.char.split(data, sep=\"_\") if len(parts) == 2])\n",
    "    # Save the transformed data\n",
    "    np.savetxt(f\"output/WNT{protein}_threshhold12_labels.txt\", processed_data, fmt=\"%s\")"
   ]
  }
 ],
 "metadata": {
  "kernelspec": {
   "display_name": "Python 3 (ipykernel)",
   "language": "python",
   "name": "python3"
  },
  "language_info": {
   "codemirror_mode": {
    "name": "ipython",
    "version": 3
   },
   "file_extension": ".py",
   "mimetype": "text/x-python",
   "name": "python",
   "nbconvert_exporter": "python",
   "pygments_lexer": "ipython3",
   "version": "3.8.17"
  }
 },
 "nbformat": 4,
 "nbformat_minor": 5
}
