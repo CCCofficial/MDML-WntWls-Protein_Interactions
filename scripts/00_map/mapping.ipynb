{
 "cells": [
  {
   "metadata": {
    "ExecuteTime": {
     "end_time": "2024-06-07T21:08:35.731075Z",
     "start_time": "2024-06-07T21:08:35.693020Z"
    }
   },
   "cell_type": "code",
   "source": [
    "import numpy as np\n",
    "import pandas as  pd\n",
    "\n",
    "# Cutoff distance\n",
    "SYSTEM=\"5a\"\n",
    "match SYSTEM:\n",
    "    case \"1\":\n",
    "        fitwnt = [32,369]\n",
    "    case \"3a\":\n",
    "        fitwnt = [19,352]\n",
    "    case \"4\":\n",
    "        fitwnt = [24,351]\n",
    "    case \"5a\":\n",
    "        fitwnt = [44,380]\n",
    "    case \"8a\":\n",
    "        fitwnt = [22,337]\n",
    "    case _:\n",
    "        print(\"Not a valid selection. Defaulting to 8a numbering.\")\n",
    "        fitwnt = [22,337]\n",
    "\n",
    "refwnt = [22,337]\n",
    "\n",
    "offset = 20\n",
    "\n",
    "align_res100 = np.ones((fitwnt[1] - fitwnt[0] + 1, refwnt[1] - refwnt[0] + offset +1)) * 500\n",
    "with open(f\"output/{SYSTEM}_to_8a.out\", \"r\") as file:\n",
    "    c = 0\n",
    "    for line in file:\n",
    "        sp = line.split()\n",
    "        align_res100[c,0:len(sp)] = sp\n",
    "        c = c + 1\n",
    "        \n",
    "        \n",
    "hashmap= []\n",
    "rmsd_cutoff = 4.5\n",
    "for i in range(len(align_res100)):\n",
    "        fit_index = fitwnt[0]+i\n",
    "        ref_index_at_min_rmsd = np.argmin(align_res100[i,1:])+align_res100[i,0]\n",
    "        min_rmsd = align_res100[i,1+np.argmin(align_res100[i,1:])]\n",
    "        if min_rmsd > rmsd_cutoff:\n",
    "            hashmap.append([fit_index, -1, min_rmsd])\n",
    "        else:\n",
    "            hashmap.append([fit_index, ref_index_at_min_rmsd, min_rmsd])\n",
    "        \n",
    "hashmap = np.array(hashmap[:-1])\n",
    "\n",
    "hashmap_df = pd.DataFrame(hashmap, columns=[SYSTEM,'8a','rmsd'])\n",
    "hashmap_df[SYSTEM] = hashmap_df[SYSTEM].astype(int)\n",
    "hashmap_df[\"8a\"] = hashmap_df[\"8a\"].astype(int)\n",
    "hashmap_df.to_csv(f\"output/{SYSTEM}_to_8a_map.csv\", index=False)\n",
    "hashmap_df"
   ],
   "id": "36d46cd4a0ed70bb",
   "execution_count": 18,
   "outputs": []
  },
  {
   "metadata": {
    "ExecuteTime": {
     "end_time": "2024-06-07T20:57:50.250908Z",
     "start_time": "2024-06-07T20:57:49.889823Z"
    }
   },
   "cell_type": "code",
   "source": [
    "import matplotlib.pyplot as plt\n",
    "plt.plot(hashmap_df[SYSTEM], hashmap_df[\"rmsd\"])\n",
    "plt.xlabel(\"Wnt3A Residue ID\", fontsize=20)\n",
    "plt.ylabel(f\"Minimum RMSD ($\\AA$)\", fontsize=20)\n",
    "plt.xticks(fontsize=16)\n",
    "plt.yticks(fontsize=16)\n",
    "\n",
    "plt.savefig(f\"{SYSTEM}_to_8a_map.png\", dpi=400)"
   ],
   "id": "4c4a39b74b9ba020",
   "execution_count": 12,
   "outputs": []
  }
 ],
 "metadata": {
  "kernelspec": {
   "display_name": "Python 3",
   "language": "python",
   "name": "python3"
  },
  "language_info": {
   "codemirror_mode": {
    "name": "ipython",
    "version": 2
   },
   "file_extension": ".py",
   "mimetype": "text/x-python",
   "name": "python",
   "nbconvert_exporter": "python",
   "pygments_lexer": "ipython2",
   "version": "2.7.6"
  }
 },
 "nbformat": 4,
 "nbformat_minor": 5
}
