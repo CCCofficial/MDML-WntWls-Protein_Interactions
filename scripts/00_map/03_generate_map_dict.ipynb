{
 "cells": [
  {
   "cell_type": "code",
   "execution_count": 127,
   "id": "32f24a19",
   "metadata": {},
   "outputs": [],
   "source": [
    "import numpy as np\n",
    "\n",
    "# Format of the output dictionary\n",
    "wnt_residue_mapping = {\n",
    "    'wnt1': {\n",
    "        'original_residues': {\n",
    "            'residue_ids': [],\n",
    "            'residue_labels': []\n",
    "        },\n",
    "        'wnt8a_alignment' : {}\n",
    "        # 'wnt8a_alignment' : {'residue_ids': []}\n",
    "    },\n",
    "    'wnt3a': {\n",
    "        'original_residues': {\n",
    "            'residue_ids': [],\n",
    "            'residue_labels': []\n",
    "        },\n",
    "        'wnt8a_alignment' : {}\n",
    "        # 'wnt8a_alignment' : {'residue_ids': []}\n",
    "    },\n",
    "    'wnt5a': {\n",
    "        'original_residues': {\n",
    "            'residue_ids': [],\n",
    "            'residue_labels': []\n",
    "        },\n",
    "        'wnt8a_alignment' : {}\n",
    "        # 'wnt8a_alignment' : {'residue_ids': []}\n",
    "    },\n",
    "    'wnt8a': {\n",
    "        'original_residues': {\n",
    "            'residue_ids': [],\n",
    "            'residue_labels': []\n",
    "        },\n",
    "        'wnt8a_alignment' : {}\n",
    "        # 'wnt8a_alignment' : {'residue_ids': []}\n",
    "    }\n",
    "}"
   ]
  },
  {
   "cell_type": "code",
   "execution_count": 128,
   "id": "6f051d69",
   "metadata": {},
   "outputs": [],
   "source": [
    "systems = [\"1\", \"3a\", \"5a\", \"8a\"]\n",
    "resnames_from_pdb = np.empty(len(systems), dtype=object)\n",
    "system_idx_from_mapping = np.empty(len(systems), dtype=object)\n",
    "mapping_idx_from_mapping = np.empty(len(systems), dtype=object)\n",
    "system_res_maps = np.empty(len(systems), dtype=object)\n",
    "\n",
    "for i in range(len(systems)):\n",
    "    \n",
    "    # Start with a blank list\n",
    "    resnames_from_pdb[i] = []\n",
    "    system_idx_from_mapping[i] = []\n",
    "    mapping_idx_from_mapping[i] = []\n",
    "    \n",
    "    # Load in the mapping files generated from 02*ipynb\n",
    "    data = np.loadtxt(f\"output/{systems[i]}_to_8a_map.csv\", delimiter=\",\", skiprows=1, dtype=str)\n",
    "    \n",
    "    # First col = 1a/3a/5a/8a indices\n",
    "    curr_idx = data[:,0].tolist()\n",
    "    \n",
    "    # Second sol = 8a mapping indices\n",
    "    map_idx = data[:,1].tolist()\n",
    "    \n",
    "    # Load in the pdb files and read in the residue name\n",
    "    col = np.loadtxt(f\"input/Wnt{systems[i]}_align.pdb\", comments=[\"CRYST1\", \"TER\", \"END\"], dtype=str)\n",
    "    if systems[i] in [\"3a\", \"8a\"]:\n",
    "        resnames = np.char.add(col[:,3], col[:,5])\n",
    "    else:\n",
    "        resnames = np.char.add(col[:,3], col[:,4])\n",
    "    \n",
    "    # Read in molecule id (WNT or WNTLESS) and generate list of WNT resnames\n",
    "    seg = col[:,-2]\n",
    "    for res in range(len(resnames)):\n",
    "        if resnames[res] not in resnames_from_pdb[i] and seg[res] == \"PROA\":\n",
    "            resnames_from_pdb[i].append(str(resnames[res]))\n",
    "            \n",
    "    # Output\n",
    "    resnames_from_pdb[i] = resnames_from_pdb[i]\n",
    "    system_idx_from_mapping[i] = curr_idx\n",
    "    mapping_idx_from_mapping[i] = map_idx\n",
    "    system_res_maps[i] = dict(zip(curr_idx, map_idx))"
   ]
  },
  {
   "cell_type": "code",
   "execution_count": 129,
   "id": "75061cef-02ca-49d5-820e-9ebae87b463d",
   "metadata": {},
   "outputs": [
    {
     "name": "stdout",
     "output_type": "stream",
     "text": [
      "Wnt1\n",
      "Number of Residues from PDB: 338\n",
      "Number of Residues from Map: 338\n",
      "Number of aligned from map: 338\n",
      "\n",
      "Wnt3a\n",
      "Number of Residues from PDB: 334\n",
      "Number of Residues from Map: 334\n",
      "Number of aligned from map: 334\n",
      "\n",
      "Wnt5a\n",
      "Number of Residues from PDB: 337\n",
      "Number of Residues from Map: 337\n",
      "Number of aligned from map: 337\n",
      "\n",
      "Wnt8a\n",
      "Number of Residues from PDB: 316\n",
      "Number of Residues from Map: 316\n",
      "Number of aligned from map: 316\n",
      "\n"
     ]
    }
   ],
   "source": [
    "# Take arrays and store in the dictionary\n",
    "# Print out sizes to make sure number of elements in each dictionary item are the same\n",
    "for i in range(len(systems)):\n",
    "    dict_item = f\"wnt{systems[i]}\"\n",
    "    print(\"Wnt\" + systems[i])\n",
    "    print(f\"Number of Residues from PDB: {len(system_idx_from_mapping[i])}\\nNumber of Residues from Map: {len(resnames_from_pdb[i])}\\nNumber of aligned from map: {len(mapping_idx_from_mapping[i])}\\n\")\n",
    "    if systems[i] != '8a':\n",
    "        # wnt_residue_mapping[dict_item]['wnt8a_alignment']['residue_ids'] = mapping_idx_from_mapping[i]\n",
    "        wnt_residue_mapping[dict_item]['wnt8a_alignment'] = system_res_maps[i]\n",
    "    wnt_residue_mapping[dict_item]['original_residues']['residue_ids'] = system_idx_from_mapping[i]\n",
    "    wnt_residue_mapping[dict_item]['original_residues']['residue_labels'] = resnames_from_pdb[i]"
   ]
  },
  {
   "cell_type": "code",
   "execution_count": 130,
   "id": "0babfc2b-8faa-4018-81a1-f5f778348a76",
   "metadata": {},
   "outputs": [],
   "source": [
    "# save the dictionary as a json file\n",
    "import json\n",
    "\n",
    "output_file_location = \"output/wnt8a_residue_alignment_map.json\"\n",
    "\n",
    "# serialize data into file:\n",
    "json.dump(wnt_residue_mapping, open(output_file_location, 'w' ))\n",
    "# read data from file:\n",
    "# wnt_residue_mapping = json.load(open(output_file_location))"
   ]
  },
  {
   "cell_type": "code",
   "execution_count": 131,
   "id": "8cd6ac77",
   "metadata": {
    "scrolled": true
   },
   "outputs": [
    {
     "data": {
      "text/plain": [
       "{}"
      ]
     },
     "execution_count": 131,
     "metadata": {},
     "output_type": "execute_result"
    }
   ],
   "source": [
    "## DOUBLE-CHECK ALIGNMENT\n",
    "wnt_sys = 'wnt8a'\n",
    "# wnt_residue_mapping.keys()\n",
    "# wnt_residue_mapping[wnt_sys].keys()\n",
    "# wnt_residue_mapping[wnt_sys]['original_residues'].keys()\n",
    "wnt_residue_mapping[wnt_sys]['wnt8a_alignment']"
   ]
  },
  {
   "cell_type": "code",
   "execution_count": 126,
   "id": "4a6545d6-7179-46ac-8e77-90e99ea2a3c3",
   "metadata": {},
   "outputs": [
    {
     "data": {
      "text/plain": [
       "False"
      ]
     },
     "execution_count": 126,
     "metadata": {},
     "output_type": "execute_result"
    }
   ],
   "source": [
    "org_ids = wnt_residue_mapping[wnt_sys]['original_residues']['residue_ids']\n",
    "aligned_ids = list(wnt_residue_mapping[wnt_sys]['wnt8a_alignment'].keys())\n",
    "aligned_ids == org_ids"
   ]
  },
  {
   "cell_type": "code",
   "execution_count": null,
   "id": "f6837d6f-91dd-4fbd-89ff-f9333cd4ceb3",
   "metadata": {},
   "outputs": [],
   "source": []
  }
 ],
 "metadata": {
  "kernelspec": {
   "display_name": "Python [conda env:MDML-WntWLS] *",
   "language": "python",
   "name": "conda-env-MDML-WntWLS-py"
  },
  "language_info": {
   "codemirror_mode": {
    "name": "ipython",
    "version": 3
   },
   "file_extension": ".py",
   "mimetype": "text/x-python",
   "name": "python",
   "nbconvert_exporter": "python",
   "pygments_lexer": "ipython3",
   "version": "3.10.12"
  }
 },
 "nbformat": 4,
 "nbformat_minor": 5
}
