{
 "cells": [
  {
   "cell_type": "code",
   "execution_count": 1,
   "id": "32f24a19",
   "metadata": {},
   "outputs": [],
   "source": [
    "import numpy as np\n",
    "\n",
    "# Format of the output dictionary\n",
    "wnt_residue_mapping = {\n",
    "    'wnt1': {\n",
    "        'original_residues': {\n",
    "            'residue_ids': [],\n",
    "            'residue_labels': []\n",
    "        },\n",
    "        'wnt8a_alignment' : {'residue_ids': []}\n",
    "    },\n",
    "    'wnt3a': {\n",
    "        'original_residues': {\n",
    "            'residue_ids': [],\n",
    "            'residue_labels': []\n",
    "        },\n",
    "        'wnt8a_alignment' : {'residue_ids': []}\n",
    "    },\n",
    "    'wnt5a': {\n",
    "        'original_residues': {\n",
    "            'residue_ids': [],\n",
    "            'residue_labels': []\n",
    "        },\n",
    "        'wnt8a_alignment' : {'residue_ids': []}\n",
    "    },\n",
    "    'wnt8a': {\n",
    "        'original_residues': {\n",
    "            'residue_ids': [],\n",
    "            'residue_labels': []\n",
    "        },\n",
    "        'wnt8a_alignment' : {'residue_ids': []}\n",
    "    }\n",
    "}"
   ]
  },
  {
   "cell_type": "code",
   "execution_count": 2,
   "id": "6f051d69",
   "metadata": {
    "scrolled": true
   },
   "outputs": [
    {
     "name": "stderr",
     "output_type": "stream",
     "text": [
      "/var/folders/p_/mmkyzkc1655_rf8nypyzqx7r0000gn/T/ipykernel_12734/3397276745.py:23: UserWarning: Input line 5245 contained no data and will not be counted towards `max_rows=50000`.  This differs from the behaviour in NumPy <=1.22 which counted lines rather than rows.  If desired, the previous behaviour can be achieved by using `itertools.islice`.\n",
      "Please see the 1.23 release notes for an example on how to do this.  If you wish to ignore this warning, use `warnings.filterwarnings`.  This warning is expected to be removed in the future and is given only once per `loadtxt` call.\n",
      "  col = np.loadtxt(f\"input/Wnt{systems[i]}_align.pdb\", comments=[\"CRYST1\", \"TER\", \"END\"], dtype=str)\n",
      "/var/folders/p_/mmkyzkc1655_rf8nypyzqx7r0000gn/T/ipykernel_12734/3397276745.py:23: UserWarning: Input line 1 contained no data and will not be counted towards `max_rows=50000`.  This differs from the behaviour in NumPy <=1.22 which counted lines rather than rows.  If desired, the previous behaviour can be achieved by using `itertools.islice`.\n",
      "Please see the 1.23 release notes for an example on how to do this.  If you wish to ignore this warning, use `warnings.filterwarnings`.  This warning is expected to be removed in the future and is given only once per `loadtxt` call.\n",
      "  col = np.loadtxt(f\"input/Wnt{systems[i]}_align.pdb\", comments=[\"CRYST1\", \"TER\", \"END\"], dtype=str)\n",
      "/var/folders/p_/mmkyzkc1655_rf8nypyzqx7r0000gn/T/ipykernel_12734/3397276745.py:23: UserWarning: Input line 5233 contained no data and will not be counted towards `max_rows=50000`.  This differs from the behaviour in NumPy <=1.22 which counted lines rather than rows.  If desired, the previous behaviour can be achieved by using `itertools.islice`.\n",
      "Please see the 1.23 release notes for an example on how to do this.  If you wish to ignore this warning, use `warnings.filterwarnings`.  This warning is expected to be removed in the future and is given only once per `loadtxt` call.\n",
      "  col = np.loadtxt(f\"input/Wnt{systems[i]}_align.pdb\", comments=[\"CRYST1\", \"TER\", \"END\"], dtype=str)\n"
     ]
    }
   ],
   "source": [
    "systems = [\"1\", \"3a\", \"5a\", \"8a\"]\n",
    "resnames_from_pdb = np.empty(len(systems), dtype=object)\n",
    "system_idx_from_mapping = np.empty(len(systems), dtype=object)\n",
    "mapping_idx_from_mapping = np.empty(len(systems), dtype=object)\n",
    "\n",
    "for i in range(len(systems)):\n",
    "    \n",
    "    # Start with a blank list\n",
    "    resnames_from_pdb[i] = []\n",
    "    system_idx_from_mapping[i] = []\n",
    "    mapping_idx_from_mapping[i] = []\n",
    "    \n",
    "    # Load in the mapping files generated from 02*ipynb\n",
    "    data = np.loadtxt(f\"output/{systems[i]}_to_8a_map.csv\", delimiter=\",\", skiprows=1, dtype=str)\n",
    "    \n",
    "    # First col = 1a/3a/5a/8a indeces\n",
    "    curr_idx = data[:,0].tolist()\n",
    "    \n",
    "    # Second sol = 8a mapping indeces\n",
    "    map_idx = data[:,1].tolist()\n",
    "    \n",
    "    # Load in the pdb files and read in the residue name\n",
    "    col = np.loadtxt(f\"input/Wnt{systems[i]}_align.pdb\", comments=[\"CRYST1\", \"TER\", \"END\"], dtype=str)\n",
    "    if systems[i] in [\"3a\", \"8a\"]:\n",
    "        resnames = col[:,3] + col[:,5]\n",
    "    else:\n",
    "        resnames = col[:,3] + col[:,4]\n",
    "    \n",
    "    # Read in molecule id (WNT or WNTLESS) and generate list of WNT resnames\n",
    "    seg = col[:,-2]\n",
    "    for res in range(len(resnames)):\n",
    "        if resnames[res] not in resnames_from_pdb[i] and seg[res] == \"PROA\":\n",
    "            resnames_from_pdb[i].append(str(resnames[res]))\n",
    "            \n",
    "    # Output\n",
    "    resnames_from_pdb[i] = resnames_from_pdb[i]\n",
    "    system_idx_from_mapping[i] = curr_idx\n",
    "    mapping_idx_from_mapping[i] = map_idx\n",
    "    "
   ]
  },
  {
   "cell_type": "code",
   "execution_count": 4,
   "id": "8cd6ac77",
   "metadata": {},
   "outputs": [
    {
     "name": "stdout",
     "output_type": "stream",
     "text": [
      "Number of Residues from PDB: 338\n",
      "Number of Residues from Map: 338\n",
      "Number of aligned from map:338\n",
      "\n",
      "Number of Residues from PDB: 334\n",
      "Number of Residues from Map: 334\n",
      "Number of aligned from map:334\n",
      "\n",
      "Number of Residues from PDB: 337\n",
      "Number of Residues from Map: 337\n",
      "Number of aligned from map:337\n",
      "\n",
      "Number of Residues from PDB: 316\n",
      "Number of Residues from Map: 316\n",
      "Number of aligned from map:316\n",
      "\n"
     ]
    }
   ],
   "source": [
    "# Take arrays and store in the dictionary\n",
    "# Print out sizes to make sure number of elements in each dictionary item are the same\n",
    "for i in range(len(systems)):\n",
    "    dict_item = f\"wnt{systems[i]}\"\n",
    "    print(f\"Number of Residues from PDB: {len(system_idx_from_mapping[i])}\\nNumber of Residues from Map: {len(resnames_from_pdb[i])}\\nNumber of aligned from map:{len(mapping_idx_from_mapping[i])}\\n\")\n",
    "    wnt_residue_mapping[dict_item]['wnt8a_alignment']['residue_ids'] = mapping_idx_from_mapping[i]\n",
    "    wnt_residue_mapping[dict_item]['original_residues']['residue_ids'] = system_idx_from_mapping[i]\n",
    "    wnt_residue_mapping[dict_item]['original_residues']['residue_labels'] = resnames_from_pdb[i]"
   ]
  },
  {
   "cell_type": "code",
   "execution_count": null,
   "id": "8c421cec",
   "metadata": {},
   "outputs": [],
   "source": []
  }
 ],
 "metadata": {
  "kernelspec": {
   "display_name": "Python 3 (ipykernel)",
   "language": "python",
   "name": "python3"
  },
  "language_info": {
   "codemirror_mode": {
    "name": "ipython",
    "version": 3
   },
   "file_extension": ".py",
   "mimetype": "text/x-python",
   "name": "python",
   "nbconvert_exporter": "python",
   "pygments_lexer": "ipython3",
   "version": "3.9.7"
  }
 },
 "nbformat": 4,
 "nbformat_minor": 5
}
