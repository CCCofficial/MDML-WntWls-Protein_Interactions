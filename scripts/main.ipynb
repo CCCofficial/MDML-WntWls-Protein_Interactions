{
 "cells": [
  {
   "cell_type": "markdown",
   "id": "48801a8f8f198710",
   "metadata": {},
   "source": [
    "## MAIN\n",
    "\n",
    "Here, I will walk you through the first 5 steps of the code.\n",
    "\n",
    "Step 1.  01_get_contact_matrix/run.py <br>\n",
    "Step 2.  02_apply_threshhold/run.py <br>\n",
    "Step 3.  03_finalize_dataset/run.py <br>\n",
    "Step 4.  04_map/run.py <br>\n",
    "Step 5.  05_combine/run.py <br>\n",
    "\n",
    "These scripts will take you from the initial simulations (found at ```Library/CloudStorage/Box-Box/Summerinternship_2024/WNT-WLS-project/Data_Backup```) to the initial 2D matrix that is used in the ML pipeline (```05_combine/output/ML_input.csv```).\n",
    "\n",
    "Each of the script folders, their usage, and their output are explained separately below. You may also refer to the ```README.md``` file."
   ]
  },
  {
   "cell_type": "code",
   "execution_count": 1,
   "id": "99259f91d168aa36",
   "metadata": {
    "ExecuteTime": {
     "end_time": "2024-08-05T20:21:22.983315Z",
     "start_time": "2024-08-05T20:21:22.980300Z"
    }
   },
   "outputs": [],
   "source": [
    "import os\n",
    "\n",
    "##################\n",
    "# CHANGE THESE VARIABLES\n",
    "##################\n",
    "\n",
    "#(FROM THE DROPBOX FOLDER - HARD CODED TO MASAUER2 DIRECTORY)\n",
    "system=\"8a\" # Used to get the directory of the trajectory (FROM THE DROPBOX FOLDER - HARD CODED TO MASAUER2 DIRECTORY)\n",
    "cutoff=12 # Distance cutoff\n",
    "workingDir = os.getcwd() # Current directory\n",
    "timestep = 20 # ps\n",
    "tFinal = 1500000 # ps"
   ]
  },
  {
   "cell_type": "markdown",
   "id": "9e6da0a67a4060bb",
   "metadata": {},
   "source": [
    "## Step 1 - Compute Contact Distance Matrix\n",
    "\n",
    "For each trajectory, compute the contact distance matrix between all C-$\\alpha$ atoms. Reshape the matrix from (nFrames x nCalpha x nCAlpha) to have dimensions (nFrames x nCAlpha*nCAlpha).\n",
    "\n",
    "OUTPUT -> For each trajectory, we get a ```.npy``` file of the format ```WNT{wnt_protein_name}_distances_iter{chunk_num}.npy```. For example, the trajectory ```Data_Backup/wnt1/copy01/dcd_files/Wnt1WlsPc_copy_01_run_108.dcd``` produces ```output/WNT1_distances_iter108.npy```."
   ]
  },
  {
   "cell_type": "code",
   "execution_count": 7,
   "id": "544abb2b2742b96a",
   "metadata": {
    "ExecuteTime": {
     "end_time": "2024-07-13T20:16:09.126523Z",
     "start_time": "2024-07-13T20:15:34.764273Z"
    }
   },
   "outputs": [
    {
     "name": "stdout",
     "output_type": "stream",
     "text": [
      "['/Users/masauer2/Library/CloudStorage/Box-Box/Summerinternship_2024/WNT-WLS-project/Data_Backup/wnt1/copy01/dcd_files/Wnt1WlsPc_copy_01_run_001.dcd', '/Users/masauer2/Library/CloudStorage/Box-Box/Summerinternship_2024/WNT-WLS-project/Data_Backup/wnt1/copy01/dcd_files/Wnt1WlsPc_copy_01_run_002.dcd', '/Users/masauer2/Library/CloudStorage/Box-Box/Summerinternship_2024/WNT-WLS-project/Data_Backup/wnt1/copy01/dcd_files/Wnt1WlsPc_copy_01_run_003.dcd', '/Users/masauer2/Library/CloudStorage/Box-Box/Summerinternship_2024/WNT-WLS-project/Data_Backup/wnt1/copy01/dcd_files/Wnt1WlsPc_copy_01_run_004.dcd', '/Users/masauer2/Library/CloudStorage/Box-Box/Summerinternship_2024/WNT-WLS-project/Data_Backup/wnt1/copy01/dcd_files/Wnt1WlsPc_copy_01_run_005.dcd', '/Users/masauer2/Library/CloudStorage/Box-Box/Summerinternship_2024/WNT-WLS-project/Data_Backup/wnt1/copy01/dcd_files/Wnt1WlsPc_copy_01_run_006.dcd', '/Users/masauer2/Library/CloudStorage/Box-Box/Summerinternship_2024/WNT-WLS-project/Data_Backup/wnt1/copy01/dcd_files/Wnt1WlsPc_copy_01_run_007.dcd', '/Users/masauer2/Library/CloudStorage/Box-Box/Summerinternship_2024/WNT-WLS-project/Data_Backup/wnt1/copy01/dcd_files/Wnt1WlsPc_copy_01_run_008.dcd', '/Users/masauer2/Library/CloudStorage/Box-Box/Summerinternship_2024/WNT-WLS-project/Data_Backup/wnt1/copy01/dcd_files/Wnt1WlsPc_copy_01_run_009.dcd', '/Users/masauer2/Library/CloudStorage/Box-Box/Summerinternship_2024/WNT-WLS-project/Data_Backup/wnt1/copy01/dcd_files/Wnt1WlsPc_copy_01_run_010.dcd', '/Users/masauer2/Library/CloudStorage/Box-Box/Summerinternship_2024/WNT-WLS-project/Data_Backup/wnt1/copy01/dcd_files/Wnt1WlsPc_copy_01_run_011.dcd', '/Users/masauer2/Library/CloudStorage/Box-Box/Summerinternship_2024/WNT-WLS-project/Data_Backup/wnt1/copy01/dcd_files/Wnt1WlsPc_copy_01_run_012.dcd', '/Users/masauer2/Library/CloudStorage/Box-Box/Summerinternship_2024/WNT-WLS-project/Data_Backup/wnt1/copy01/dcd_files/Wnt1WlsPc_copy_01_run_013.dcd', '/Users/masauer2/Library/CloudStorage/Box-Box/Summerinternship_2024/WNT-WLS-project/Data_Backup/wnt1/copy01/dcd_files/Wnt1WlsPc_copy_01_run_014.dcd', '/Users/masauer2/Library/CloudStorage/Box-Box/Summerinternship_2024/WNT-WLS-project/Data_Backup/wnt1/copy01/dcd_files/Wnt1WlsPc_copy_01_run_015.dcd', '/Users/masauer2/Library/CloudStorage/Box-Box/Summerinternship_2024/WNT-WLS-project/Data_Backup/wnt1/copy01/dcd_files/Wnt1WlsPc_copy_01_run_016.dcd', '/Users/masauer2/Library/CloudStorage/Box-Box/Summerinternship_2024/WNT-WLS-project/Data_Backup/wnt1/copy01/dcd_files/Wnt1WlsPc_copy_01_run_017.dcd', '/Users/masauer2/Library/CloudStorage/Box-Box/Summerinternship_2024/WNT-WLS-project/Data_Backup/wnt1/copy01/dcd_files/Wnt1WlsPc_copy_01_run_018.dcd', '/Users/masauer2/Library/CloudStorage/Box-Box/Summerinternship_2024/WNT-WLS-project/Data_Backup/wnt1/copy01/dcd_files/Wnt1WlsPc_copy_01_run_019.dcd', '/Users/masauer2/Library/CloudStorage/Box-Box/Summerinternship_2024/WNT-WLS-project/Data_Backup/wnt1/copy01/dcd_files/Wnt1WlsPc_copy_01_run_020.dcd', '/Users/masauer2/Library/CloudStorage/Box-Box/Summerinternship_2024/WNT-WLS-project/Data_Backup/wnt1/copy01/dcd_files/Wnt1WlsPc_copy_01_run_021.dcd', '/Users/masauer2/Library/CloudStorage/Box-Box/Summerinternship_2024/WNT-WLS-project/Data_Backup/wnt1/copy01/dcd_files/Wnt1WlsPc_copy_01_run_022.dcd', '/Users/masauer2/Library/CloudStorage/Box-Box/Summerinternship_2024/WNT-WLS-project/Data_Backup/wnt1/copy01/dcd_files/Wnt1WlsPc_copy_01_run_023.dcd', '/Users/masauer2/Library/CloudStorage/Box-Box/Summerinternship_2024/WNT-WLS-project/Data_Backup/wnt1/copy01/dcd_files/Wnt1WlsPc_copy_01_run_024.dcd', '/Users/masauer2/Library/CloudStorage/Box-Box/Summerinternship_2024/WNT-WLS-project/Data_Backup/wnt1/copy01/dcd_files/Wnt1WlsPc_copy_01_run_025.dcd', '/Users/masauer2/Library/CloudStorage/Box-Box/Summerinternship_2024/WNT-WLS-project/Data_Backup/wnt1/copy01/dcd_files/Wnt1WlsPc_copy_01_run_026.dcd', '/Users/masauer2/Library/CloudStorage/Box-Box/Summerinternship_2024/WNT-WLS-project/Data_Backup/wnt1/copy01/dcd_files/Wnt1WlsPc_copy_01_run_027.dcd', '/Users/masauer2/Library/CloudStorage/Box-Box/Summerinternship_2024/WNT-WLS-project/Data_Backup/wnt1/copy01/dcd_files/Wnt1WlsPc_copy_01_run_028.dcd', '/Users/masauer2/Library/CloudStorage/Box-Box/Summerinternship_2024/WNT-WLS-project/Data_Backup/wnt1/copy01/dcd_files/Wnt1WlsPc_copy_01_run_029.dcd', '/Users/masauer2/Library/CloudStorage/Box-Box/Summerinternship_2024/WNT-WLS-project/Data_Backup/wnt1/copy01/dcd_files/Wnt1WlsPc_copy_01_run_030.dcd', '/Users/masauer2/Library/CloudStorage/Box-Box/Summerinternship_2024/WNT-WLS-project/Data_Backup/wnt1/copy01/dcd_files/Wnt1WlsPc_copy_01_run_031.dcd', '/Users/masauer2/Library/CloudStorage/Box-Box/Summerinternship_2024/WNT-WLS-project/Data_Backup/wnt1/copy01/dcd_files/Wnt1WlsPc_copy_01_run_032.dcd', '/Users/masauer2/Library/CloudStorage/Box-Box/Summerinternship_2024/WNT-WLS-project/Data_Backup/wnt1/copy01/dcd_files/Wnt1WlsPc_copy_01_run_033.dcd', '/Users/masauer2/Library/CloudStorage/Box-Box/Summerinternship_2024/WNT-WLS-project/Data_Backup/wnt1/copy01/dcd_files/Wnt1WlsPc_copy_01_run_034.dcd', '/Users/masauer2/Library/CloudStorage/Box-Box/Summerinternship_2024/WNT-WLS-project/Data_Backup/wnt1/copy01/dcd_files/Wnt1WlsPc_copy_01_run_035.dcd', '/Users/masauer2/Library/CloudStorage/Box-Box/Summerinternship_2024/WNT-WLS-project/Data_Backup/wnt1/copy01/dcd_files/Wnt1WlsPc_copy_01_run_036.dcd', '/Users/masauer2/Library/CloudStorage/Box-Box/Summerinternship_2024/WNT-WLS-project/Data_Backup/wnt1/copy01/dcd_files/Wnt1WlsPc_copy_01_run_037.dcd', '/Users/masauer2/Library/CloudStorage/Box-Box/Summerinternship_2024/WNT-WLS-project/Data_Backup/wnt1/copy01/dcd_files/Wnt1WlsPc_copy_01_run_038.dcd', '/Users/masauer2/Library/CloudStorage/Box-Box/Summerinternship_2024/WNT-WLS-project/Data_Backup/wnt1/copy01/dcd_files/Wnt1WlsPc_copy_01_run_039.dcd', '/Users/masauer2/Library/CloudStorage/Box-Box/Summerinternship_2024/WNT-WLS-project/Data_Backup/wnt1/copy01/dcd_files/Wnt1WlsPc_copy_01_run_040.dcd', '/Users/masauer2/Library/CloudStorage/Box-Box/Summerinternship_2024/WNT-WLS-project/Data_Backup/wnt1/copy01/dcd_files/Wnt1WlsPc_copy_01_run_041.dcd', '/Users/masauer2/Library/CloudStorage/Box-Box/Summerinternship_2024/WNT-WLS-project/Data_Backup/wnt1/copy01/dcd_files/Wnt1WlsPc_copy_01_run_042.dcd', '/Users/masauer2/Library/CloudStorage/Box-Box/Summerinternship_2024/WNT-WLS-project/Data_Backup/wnt1/copy01/dcd_files/Wnt1WlsPc_copy_01_run_043.dcd', '/Users/masauer2/Library/CloudStorage/Box-Box/Summerinternship_2024/WNT-WLS-project/Data_Backup/wnt1/copy01/dcd_files/Wnt1WlsPc_copy_01_run_044.dcd', '/Users/masauer2/Library/CloudStorage/Box-Box/Summerinternship_2024/WNT-WLS-project/Data_Backup/wnt1/copy01/dcd_files/Wnt1WlsPc_copy_01_run_045.dcd', '/Users/masauer2/Library/CloudStorage/Box-Box/Summerinternship_2024/WNT-WLS-project/Data_Backup/wnt1/copy01/dcd_files/Wnt1WlsPc_copy_01_run_046.dcd', '/Users/masauer2/Library/CloudStorage/Box-Box/Summerinternship_2024/WNT-WLS-project/Data_Backup/wnt1/copy01/dcd_files/Wnt1WlsPc_copy_01_run_047.dcd', '/Users/masauer2/Library/CloudStorage/Box-Box/Summerinternship_2024/WNT-WLS-project/Data_Backup/wnt1/copy01/dcd_files/Wnt1WlsPc_copy_01_run_048.dcd', '/Users/masauer2/Library/CloudStorage/Box-Box/Summerinternship_2024/WNT-WLS-project/Data_Backup/wnt1/copy01/dcd_files/Wnt1WlsPc_copy_01_run_049.dcd', '/Users/masauer2/Library/CloudStorage/Box-Box/Summerinternship_2024/WNT-WLS-project/Data_Backup/wnt1/copy01/dcd_files/Wnt1WlsPc_copy_01_run_050.dcd', '/Users/masauer2/Library/CloudStorage/Box-Box/Summerinternship_2024/WNT-WLS-project/Data_Backup/wnt1/copy01/dcd_files/Wnt1WlsPc_copy_01_run_051.dcd', '/Users/masauer2/Library/CloudStorage/Box-Box/Summerinternship_2024/WNT-WLS-project/Data_Backup/wnt1/copy01/dcd_files/Wnt1WlsPc_copy_01_run_052.dcd', '/Users/masauer2/Library/CloudStorage/Box-Box/Summerinternship_2024/WNT-WLS-project/Data_Backup/wnt1/copy01/dcd_files/Wnt1WlsPc_copy_01_run_053.dcd', '/Users/masauer2/Library/CloudStorage/Box-Box/Summerinternship_2024/WNT-WLS-project/Data_Backup/wnt1/copy01/dcd_files/Wnt1WlsPc_copy_01_run_054.dcd', '/Users/masauer2/Library/CloudStorage/Box-Box/Summerinternship_2024/WNT-WLS-project/Data_Backup/wnt1/copy01/dcd_files/Wnt1WlsPc_copy_01_run_055.dcd', '/Users/masauer2/Library/CloudStorage/Box-Box/Summerinternship_2024/WNT-WLS-project/Data_Backup/wnt1/copy01/dcd_files/Wnt1WlsPc_copy_01_run_056.dcd', '/Users/masauer2/Library/CloudStorage/Box-Box/Summerinternship_2024/WNT-WLS-project/Data_Backup/wnt1/copy01/dcd_files/Wnt1WlsPc_copy_01_run_057.dcd', '/Users/masauer2/Library/CloudStorage/Box-Box/Summerinternship_2024/WNT-WLS-project/Data_Backup/wnt1/copy01/dcd_files/Wnt1WlsPc_copy_01_run_058.dcd', '/Users/masauer2/Library/CloudStorage/Box-Box/Summerinternship_2024/WNT-WLS-project/Data_Backup/wnt1/copy01/dcd_files/Wnt1WlsPc_copy_01_run_059.dcd', '/Users/masauer2/Library/CloudStorage/Box-Box/Summerinternship_2024/WNT-WLS-project/Data_Backup/wnt1/copy01/dcd_files/Wnt1WlsPc_copy_01_run_060.dcd', '/Users/masauer2/Library/CloudStorage/Box-Box/Summerinternship_2024/WNT-WLS-project/Data_Backup/wnt1/copy01/dcd_files/Wnt1WlsPc_copy_01_run_061.dcd', '/Users/masauer2/Library/CloudStorage/Box-Box/Summerinternship_2024/WNT-WLS-project/Data_Backup/wnt1/copy01/dcd_files/Wnt1WlsPc_copy_01_run_062.dcd', '/Users/masauer2/Library/CloudStorage/Box-Box/Summerinternship_2024/WNT-WLS-project/Data_Backup/wnt1/copy01/dcd_files/Wnt1WlsPc_copy_01_run_063.dcd', '/Users/masauer2/Library/CloudStorage/Box-Box/Summerinternship_2024/WNT-WLS-project/Data_Backup/wnt1/copy01/dcd_files/Wnt1WlsPc_copy_01_run_064.dcd', '/Users/masauer2/Library/CloudStorage/Box-Box/Summerinternship_2024/WNT-WLS-project/Data_Backup/wnt1/copy01/dcd_files/Wnt1WlsPc_copy_01_run_065.dcd', '/Users/masauer2/Library/CloudStorage/Box-Box/Summerinternship_2024/WNT-WLS-project/Data_Backup/wnt1/copy01/dcd_files/Wnt1WlsPc_copy_01_run_066.dcd', '/Users/masauer2/Library/CloudStorage/Box-Box/Summerinternship_2024/WNT-WLS-project/Data_Backup/wnt1/copy01/dcd_files/Wnt1WlsPc_copy_01_run_067.dcd', '/Users/masauer2/Library/CloudStorage/Box-Box/Summerinternship_2024/WNT-WLS-project/Data_Backup/wnt1/copy01/dcd_files/Wnt1WlsPc_copy_01_run_068.dcd', '/Users/masauer2/Library/CloudStorage/Box-Box/Summerinternship_2024/WNT-WLS-project/Data_Backup/wnt1/copy01/dcd_files/Wnt1WlsPc_copy_01_run_069.dcd', '/Users/masauer2/Library/CloudStorage/Box-Box/Summerinternship_2024/WNT-WLS-project/Data_Backup/wnt1/copy01/dcd_files/Wnt1WlsPc_copy_01_run_070.dcd', '/Users/masauer2/Library/CloudStorage/Box-Box/Summerinternship_2024/WNT-WLS-project/Data_Backup/wnt1/copy01/dcd_files/Wnt1WlsPc_copy_01_run_071.dcd', '/Users/masauer2/Library/CloudStorage/Box-Box/Summerinternship_2024/WNT-WLS-project/Data_Backup/wnt1/copy01/dcd_files/Wnt1WlsPc_copy_01_run_072.dcd', '/Users/masauer2/Library/CloudStorage/Box-Box/Summerinternship_2024/WNT-WLS-project/Data_Backup/wnt1/copy01/dcd_files/Wnt1WlsPc_copy_01_run_073.dcd', '/Users/masauer2/Library/CloudStorage/Box-Box/Summerinternship_2024/WNT-WLS-project/Data_Backup/wnt1/copy01/dcd_files/Wnt1WlsPc_copy_01_run_074.dcd', '/Users/masauer2/Library/CloudStorage/Box-Box/Summerinternship_2024/WNT-WLS-project/Data_Backup/wnt1/copy01/dcd_files/Wnt1WlsPc_copy_01_run_075.dcd', '/Users/masauer2/Library/CloudStorage/Box-Box/Summerinternship_2024/WNT-WLS-project/Data_Backup/wnt1/copy01/dcd_files/Wnt1WlsPc_copy_01_run_076.dcd', '/Users/masauer2/Library/CloudStorage/Box-Box/Summerinternship_2024/WNT-WLS-project/Data_Backup/wnt1/copy01/dcd_files/Wnt1WlsPc_copy_01_run_077.dcd', '/Users/masauer2/Library/CloudStorage/Box-Box/Summerinternship_2024/WNT-WLS-project/Data_Backup/wnt1/copy01/dcd_files/Wnt1WlsPc_copy_01_run_078.dcd', '/Users/masauer2/Library/CloudStorage/Box-Box/Summerinternship_2024/WNT-WLS-project/Data_Backup/wnt1/copy01/dcd_files/Wnt1WlsPc_copy_01_run_079.dcd', '/Users/masauer2/Library/CloudStorage/Box-Box/Summerinternship_2024/WNT-WLS-project/Data_Backup/wnt1/copy01/dcd_files/Wnt1WlsPc_copy_01_run_080.dcd', '/Users/masauer2/Library/CloudStorage/Box-Box/Summerinternship_2024/WNT-WLS-project/Data_Backup/wnt1/copy01/dcd_files/Wnt1WlsPc_copy_01_run_081.dcd', '/Users/masauer2/Library/CloudStorage/Box-Box/Summerinternship_2024/WNT-WLS-project/Data_Backup/wnt1/copy01/dcd_files/Wnt1WlsPc_copy_01_run_082.dcd', '/Users/masauer2/Library/CloudStorage/Box-Box/Summerinternship_2024/WNT-WLS-project/Data_Backup/wnt1/copy01/dcd_files/Wnt1WlsPc_copy_01_run_083.dcd', '/Users/masauer2/Library/CloudStorage/Box-Box/Summerinternship_2024/WNT-WLS-project/Data_Backup/wnt1/copy01/dcd_files/Wnt1WlsPc_copy_01_run_084.dcd', '/Users/masauer2/Library/CloudStorage/Box-Box/Summerinternship_2024/WNT-WLS-project/Data_Backup/wnt1/copy01/dcd_files/Wnt1WlsPc_copy_01_run_085.dcd', '/Users/masauer2/Library/CloudStorage/Box-Box/Summerinternship_2024/WNT-WLS-project/Data_Backup/wnt1/copy01/dcd_files/Wnt1WlsPc_copy_01_run_086.dcd', '/Users/masauer2/Library/CloudStorage/Box-Box/Summerinternship_2024/WNT-WLS-project/Data_Backup/wnt1/copy01/dcd_files/Wnt1WlsPc_copy_01_run_087.dcd', '/Users/masauer2/Library/CloudStorage/Box-Box/Summerinternship_2024/WNT-WLS-project/Data_Backup/wnt1/copy01/dcd_files/Wnt1WlsPc_copy_01_run_088.dcd', '/Users/masauer2/Library/CloudStorage/Box-Box/Summerinternship_2024/WNT-WLS-project/Data_Backup/wnt1/copy01/dcd_files/Wnt1WlsPc_copy_01_run_089.dcd', '/Users/masauer2/Library/CloudStorage/Box-Box/Summerinternship_2024/WNT-WLS-project/Data_Backup/wnt1/copy01/dcd_files/Wnt1WlsPc_copy_01_run_090.dcd', '/Users/masauer2/Library/CloudStorage/Box-Box/Summerinternship_2024/WNT-WLS-project/Data_Backup/wnt1/copy01/dcd_files/Wnt1WlsPc_copy_01_run_091.dcd', '/Users/masauer2/Library/CloudStorage/Box-Box/Summerinternship_2024/WNT-WLS-project/Data_Backup/wnt1/copy01/dcd_files/Wnt1WlsPc_copy_01_run_092.dcd', '/Users/masauer2/Library/CloudStorage/Box-Box/Summerinternship_2024/WNT-WLS-project/Data_Backup/wnt1/copy01/dcd_files/Wnt1WlsPc_copy_01_run_093.dcd', '/Users/masauer2/Library/CloudStorage/Box-Box/Summerinternship_2024/WNT-WLS-project/Data_Backup/wnt1/copy01/dcd_files/Wnt1WlsPc_copy_01_run_094.dcd', '/Users/masauer2/Library/CloudStorage/Box-Box/Summerinternship_2024/WNT-WLS-project/Data_Backup/wnt1/copy01/dcd_files/Wnt1WlsPc_copy_01_run_095.dcd', '/Users/masauer2/Library/CloudStorage/Box-Box/Summerinternship_2024/WNT-WLS-project/Data_Backup/wnt1/copy01/dcd_files/Wnt1WlsPc_copy_01_run_096.dcd', '/Users/masauer2/Library/CloudStorage/Box-Box/Summerinternship_2024/WNT-WLS-project/Data_Backup/wnt1/copy01/dcd_files/Wnt1WlsPc_copy_01_run_097.dcd', '/Users/masauer2/Library/CloudStorage/Box-Box/Summerinternship_2024/WNT-WLS-project/Data_Backup/wnt1/copy01/dcd_files/Wnt1WlsPc_copy_01_run_098.dcd', '/Users/masauer2/Library/CloudStorage/Box-Box/Summerinternship_2024/WNT-WLS-project/Data_Backup/wnt1/copy01/dcd_files/Wnt1WlsPc_copy_01_run_099.dcd', '/Users/masauer2/Library/CloudStorage/Box-Box/Summerinternship_2024/WNT-WLS-project/Data_Backup/wnt1/copy01/dcd_files/Wnt1WlsPc_copy_01_run_100.dcd', '/Users/masauer2/Library/CloudStorage/Box-Box/Summerinternship_2024/WNT-WLS-project/Data_Backup/wnt1/copy01/dcd_files/Wnt1WlsPc_copy_01_run_101.dcd', '/Users/masauer2/Library/CloudStorage/Box-Box/Summerinternship_2024/WNT-WLS-project/Data_Backup/wnt1/copy01/dcd_files/Wnt1WlsPc_copy_01_run_102.dcd', '/Users/masauer2/Library/CloudStorage/Box-Box/Summerinternship_2024/WNT-WLS-project/Data_Backup/wnt1/copy01/dcd_files/Wnt1WlsPc_copy_01_run_103.dcd', '/Users/masauer2/Library/CloudStorage/Box-Box/Summerinternship_2024/WNT-WLS-project/Data_Backup/wnt1/copy01/dcd_files/Wnt1WlsPc_copy_01_run_104.dcd', '/Users/masauer2/Library/CloudStorage/Box-Box/Summerinternship_2024/WNT-WLS-project/Data_Backup/wnt1/copy01/dcd_files/Wnt1WlsPc_copy_01_run_105.dcd', '/Users/masauer2/Library/CloudStorage/Box-Box/Summerinternship_2024/WNT-WLS-project/Data_Backup/wnt1/copy01/dcd_files/Wnt1WlsPc_copy_01_run_106.dcd', '/Users/masauer2/Library/CloudStorage/Box-Box/Summerinternship_2024/WNT-WLS-project/Data_Backup/wnt1/copy01/dcd_files/Wnt1WlsPc_copy_01_run_107.dcd', '/Users/masauer2/Library/CloudStorage/Box-Box/Summerinternship_2024/WNT-WLS-project/Data_Backup/wnt1/copy01/dcd_files/Wnt1WlsPc_copy_01_run_108.dcd', '/Users/masauer2/Library/CloudStorage/Box-Box/Summerinternship_2024/WNT-WLS-project/Data_Backup/wnt1/copy01/dcd_files/Wnt1WlsPc_copy_01_run_109.dcd', '/Users/masauer2/Library/CloudStorage/Box-Box/Summerinternship_2024/WNT-WLS-project/Data_Backup/wnt1/copy01/dcd_files/Wnt1WlsPc_copy_01_run_110.dcd', '/Users/masauer2/Library/CloudStorage/Box-Box/Summerinternship_2024/WNT-WLS-project/Data_Backup/wnt1/copy01/dcd_files/Wnt1WlsPc_copy_01_run_111.dcd', '/Users/masauer2/Library/CloudStorage/Box-Box/Summerinternship_2024/WNT-WLS-project/Data_Backup/wnt1/copy01/dcd_files/Wnt1WlsPc_copy_01_run_112.dcd', '/Users/masauer2/Library/CloudStorage/Box-Box/Summerinternship_2024/WNT-WLS-project/Data_Backup/wnt1/copy01/dcd_files/Wnt1WlsPc_copy_01_run_113.dcd', '/Users/masauer2/Library/CloudStorage/Box-Box/Summerinternship_2024/WNT-WLS-project/Data_Backup/wnt1/copy01/dcd_files/Wnt1WlsPc_copy_01_run_114.dcd', '/Users/masauer2/Library/CloudStorage/Box-Box/Summerinternship_2024/WNT-WLS-project/Data_Backup/wnt1/copy01/dcd_files/Wnt1WlsPc_copy_01_run_115.dcd', '/Users/masauer2/Library/CloudStorage/Box-Box/Summerinternship_2024/WNT-WLS-project/Data_Backup/wnt1/copy01/dcd_files/Wnt1WlsPc_copy_01_run_116.dcd', '/Users/masauer2/Library/CloudStorage/Box-Box/Summerinternship_2024/WNT-WLS-project/Data_Backup/wnt1/copy01/dcd_files/Wnt1WlsPc_copy_01_run_117.dcd', '/Users/masauer2/Library/CloudStorage/Box-Box/Summerinternship_2024/WNT-WLS-project/Data_Backup/wnt1/copy01/dcd_files/Wnt1WlsPc_copy_01_run_118.dcd', '/Users/masauer2/Library/CloudStorage/Box-Box/Summerinternship_2024/WNT-WLS-project/Data_Backup/wnt1/copy01/dcd_files/Wnt1WlsPc_copy_01_run_119.dcd', '/Users/masauer2/Library/CloudStorage/Box-Box/Summerinternship_2024/WNT-WLS-project/Data_Backup/wnt1/copy01/dcd_files/Wnt1WlsPc_copy_01_run_120.dcd', '/Users/masauer2/Library/CloudStorage/Box-Box/Summerinternship_2024/WNT-WLS-project/Data_Backup/wnt1/copy01/dcd_files/Wnt1WlsPc_copy_01_run_121.dcd', '/Users/masauer2/Library/CloudStorage/Box-Box/Summerinternship_2024/WNT-WLS-project/Data_Backup/wnt1/copy01/dcd_files/Wnt1WlsPc_copy_01_run_122.dcd', '/Users/masauer2/Library/CloudStorage/Box-Box/Summerinternship_2024/WNT-WLS-project/Data_Backup/wnt1/copy01/dcd_files/Wnt1WlsPc_copy_01_run_123.dcd', '/Users/masauer2/Library/CloudStorage/Box-Box/Summerinternship_2024/WNT-WLS-project/Data_Backup/wnt1/copy01/dcd_files/Wnt1WlsPc_copy_01_run_124.dcd']\n",
      "Reading trajectory at iteration 0.\n"
     ]
    },
    {
     "ename": "KeyboardInterrupt",
     "evalue": "",
     "output_type": "error",
     "traceback": [
      "\u001b[0;31m---------------------------------------------------------------------------\u001b[0m",
      "\u001b[0;31mOSError\u001b[0m                                   Traceback (most recent call last)",
      "File \u001b[0;32m~/PycharmProjects/MASContactCalculator/.venv/lib/python3.12/site-packages/IPython/core/interactiveshell.py:2932\u001b[0m, in \u001b[0;36mInteractiveShell.safe_execfile\u001b[0;34m(self, fname, exit_ignore, raise_exceptions, shell_futures, *where)\u001b[0m\n\u001b[1;32m   2931\u001b[0m     glob, loc \u001b[38;5;241m=\u001b[39m (where \u001b[38;5;241m+\u001b[39m (\u001b[38;5;28;01mNone\u001b[39;00m, ))[:\u001b[38;5;241m2\u001b[39m]\n\u001b[0;32m-> 2932\u001b[0m     \u001b[43mpy3compat\u001b[49m\u001b[38;5;241;43m.\u001b[39;49m\u001b[43mexecfile\u001b[49m\u001b[43m(\u001b[49m\n\u001b[1;32m   2933\u001b[0m \u001b[43m        \u001b[49m\u001b[43mfname\u001b[49m\u001b[43m,\u001b[49m\u001b[43m \u001b[49m\u001b[43mglob\u001b[49m\u001b[43m,\u001b[49m\u001b[43m \u001b[49m\u001b[43mloc\u001b[49m\u001b[43m,\u001b[49m\n\u001b[1;32m   2934\u001b[0m \u001b[43m        \u001b[49m\u001b[38;5;28;43mself\u001b[39;49m\u001b[38;5;241;43m.\u001b[39;49m\u001b[43mcompile\u001b[49m\u001b[43m \u001b[49m\u001b[38;5;28;43;01mif\u001b[39;49;00m\u001b[43m \u001b[49m\u001b[43mshell_futures\u001b[49m\u001b[43m \u001b[49m\u001b[38;5;28;43;01melse\u001b[39;49;00m\u001b[43m \u001b[49m\u001b[38;5;28;43;01mNone\u001b[39;49;00m\u001b[43m)\u001b[49m\n\u001b[1;32m   2935\u001b[0m \u001b[38;5;28;01mexcept\u001b[39;00m \u001b[38;5;167;01mSystemExit\u001b[39;00m \u001b[38;5;28;01mas\u001b[39;00m status:\n\u001b[1;32m   2936\u001b[0m     \u001b[38;5;66;03m# If the call was made with 0 or None exit status (sys.exit(0)\u001b[39;00m\n\u001b[1;32m   2937\u001b[0m     \u001b[38;5;66;03m# or sys.exit() ), don't bother showing a traceback, as both of\u001b[39;00m\n\u001b[0;32m   (...)\u001b[0m\n\u001b[1;32m   2943\u001b[0m     \u001b[38;5;66;03m# For other exit status, we show the exception unless\u001b[39;00m\n\u001b[1;32m   2944\u001b[0m     \u001b[38;5;66;03m# explicitly silenced, but only in short form.\u001b[39;00m\n",
      "File \u001b[0;32m~/PycharmProjects/MASContactCalculator/.venv/lib/python3.12/site-packages/IPython/utils/py3compat.py:55\u001b[0m, in \u001b[0;36mexecfile\u001b[0;34m(fname, glob, loc, compiler)\u001b[0m\n\u001b[1;32m     54\u001b[0m compiler \u001b[38;5;241m=\u001b[39m compiler \u001b[38;5;129;01mor\u001b[39;00m \u001b[38;5;28mcompile\u001b[39m\n\u001b[0;32m---> 55\u001b[0m \u001b[43mexec\u001b[49m\u001b[43m(\u001b[49m\u001b[43mcompiler\u001b[49m\u001b[43m(\u001b[49m\u001b[43mf\u001b[49m\u001b[38;5;241;43m.\u001b[39;49m\u001b[43mread\u001b[49m\u001b[43m(\u001b[49m\u001b[43m)\u001b[49m\u001b[43m,\u001b[49m\u001b[43m \u001b[49m\u001b[43mfname\u001b[49m\u001b[43m,\u001b[49m\u001b[43m \u001b[49m\u001b[38;5;124;43m\"\u001b[39;49m\u001b[38;5;124;43mexec\u001b[39;49m\u001b[38;5;124;43m\"\u001b[39;49m\u001b[43m)\u001b[49m\u001b[43m,\u001b[49m\u001b[43m \u001b[49m\u001b[43mglob\u001b[49m\u001b[43m,\u001b[49m\u001b[43m \u001b[49m\u001b[43mloc\u001b[49m\u001b[43m)\u001b[49m\n",
      "File \u001b[0;32m~/IBMDataPreProcess/pythonProject/scripts/01_get_contact_matrix/run.py:54\u001b[0m\n\u001b[1;32m     53\u001b[0m \u001b[38;5;66;03m# Current universe containing all dcd files\u001b[39;00m\n\u001b[0;32m---> 54\u001b[0m u \u001b[38;5;241m=\u001b[39m [\u001b[43mmda\u001b[49m\u001b[38;5;241;43m.\u001b[39;49m\u001b[43mUniverse\u001b[49m\u001b[43m(\u001b[49m\u001b[43mpsf_arr\u001b[49m\u001b[43m[\u001b[49m\u001b[38;5;241;43m0\u001b[39;49m\u001b[43m]\u001b[49m\u001b[43m,\u001b[49m\u001b[43m \u001b[49m\u001b[43mdcd_list\u001b[49m\u001b[43m)\u001b[49m]\n\u001b[1;32m     56\u001b[0m WNT_atoms \u001b[38;5;241m=\u001b[39m [c\u001b[38;5;241m.\u001b[39mselect_atoms(WNT_CALPHA) \u001b[38;5;28;01mfor\u001b[39;00m c \u001b[38;5;129;01min\u001b[39;00m u]  \u001b[38;5;66;03m# AtomGroup associated w/ WNT\u001b[39;00m\n",
      "File \u001b[0;32m~/PycharmProjects/MASContactCalculator/.venv/lib/python3.12/site-packages/MDAnalysis/core/universe.py:375\u001b[0m, in \u001b[0;36mUniverse.__init__\u001b[0;34m(self, topology, all_coordinates, format, topology_format, transformations, guess_bonds, vdwradii, fudge_factor, lower_bound, in_memory, in_memory_step, *coordinates, **kwargs)\u001b[0m\n\u001b[1;32m    374\u001b[0m \u001b[38;5;28;01mif\u001b[39;00m coordinates:\n\u001b[0;32m--> 375\u001b[0m     \u001b[38;5;28;43mself\u001b[39;49m\u001b[38;5;241;43m.\u001b[39;49m\u001b[43mload_new\u001b[49m\u001b[43m(\u001b[49m\u001b[43mcoordinates\u001b[49m\u001b[43m,\u001b[49m\u001b[43m \u001b[49m\u001b[38;5;28;43mformat\u001b[39;49m\u001b[38;5;241;43m=\u001b[39;49m\u001b[38;5;28;43mformat\u001b[39;49m\u001b[43m,\u001b[49m\u001b[43m \u001b[49m\u001b[43min_memory\u001b[49m\u001b[38;5;241;43m=\u001b[39;49m\u001b[43min_memory\u001b[49m\u001b[43m,\u001b[49m\n\u001b[1;32m    376\u001b[0m \u001b[43m                \u001b[49m\u001b[43min_memory_step\u001b[49m\u001b[38;5;241;43m=\u001b[39;49m\u001b[43min_memory_step\u001b[49m\u001b[43m,\u001b[49m\u001b[43m \u001b[49m\u001b[38;5;241;43m*\u001b[39;49m\u001b[38;5;241;43m*\u001b[39;49m\u001b[43mkwargs\u001b[49m\u001b[43m)\u001b[49m\n\u001b[1;32m    378\u001b[0m \u001b[38;5;28;01mif\u001b[39;00m transformations:\n",
      "File \u001b[0;32m~/PycharmProjects/MASContactCalculator/.venv/lib/python3.12/site-packages/MDAnalysis/core/universe.py:580\u001b[0m, in \u001b[0;36mUniverse.load_new\u001b[0;34m(self, filename, format, in_memory, in_memory_step, **kwargs)\u001b[0m\n\u001b[1;32m    578\u001b[0m kwargs[\u001b[38;5;124m'\u001b[39m\u001b[38;5;124mn_atoms\u001b[39m\u001b[38;5;124m'\u001b[39m] \u001b[38;5;241m=\u001b[39m \u001b[38;5;28mself\u001b[39m\u001b[38;5;241m.\u001b[39matoms\u001b[38;5;241m.\u001b[39mn_atoms\n\u001b[0;32m--> 580\u001b[0m \u001b[38;5;28mself\u001b[39m\u001b[38;5;241m.\u001b[39mtrajectory \u001b[38;5;241m=\u001b[39m \u001b[43mreader\u001b[49m\u001b[43m(\u001b[49m\u001b[43mfilename\u001b[49m\u001b[43m,\u001b[49m\u001b[43m \u001b[49m\u001b[38;5;28;43mformat\u001b[39;49m\u001b[38;5;241;43m=\u001b[39;49m\u001b[38;5;28;43mformat\u001b[39;49m\u001b[43m,\u001b[49m\u001b[43m \u001b[49m\u001b[38;5;241;43m*\u001b[39;49m\u001b[38;5;241;43m*\u001b[39;49m\u001b[43mkwargs\u001b[49m\u001b[43m)\u001b[49m\n\u001b[1;32m    581\u001b[0m \u001b[38;5;28;01mif\u001b[39;00m \u001b[38;5;28mself\u001b[39m\u001b[38;5;241m.\u001b[39mtrajectory\u001b[38;5;241m.\u001b[39mn_atoms \u001b[38;5;241m!=\u001b[39m \u001b[38;5;28mlen\u001b[39m(\u001b[38;5;28mself\u001b[39m\u001b[38;5;241m.\u001b[39matoms):\n",
      "File \u001b[0;32m~/PycharmProjects/MASContactCalculator/.venv/lib/python3.12/site-packages/MDAnalysis/lib/util.py:2553\u001b[0m, in \u001b[0;36mstore_init_arguments.<locals>.wrapper\u001b[0;34m(self, *args, **kwargs)\u001b[0m\n\u001b[1;32m   2552\u001b[0m                 \u001b[38;5;28mself\u001b[39m\u001b[38;5;241m.\u001b[39m_kwargs[key] \u001b[38;5;241m=\u001b[39m arg\n\u001b[0;32m-> 2553\u001b[0m \u001b[38;5;28;01mreturn\u001b[39;00m \u001b[43mfunc\u001b[49m\u001b[43m(\u001b[49m\u001b[38;5;28;43mself\u001b[39;49m\u001b[43m,\u001b[49m\u001b[43m \u001b[49m\u001b[38;5;241;43m*\u001b[39;49m\u001b[43margs\u001b[49m\u001b[43m,\u001b[49m\u001b[43m \u001b[49m\u001b[38;5;241;43m*\u001b[39;49m\u001b[38;5;241;43m*\u001b[39;49m\u001b[43mkwargs\u001b[49m\u001b[43m)\u001b[49m\n",
      "File \u001b[0;32m~/PycharmProjects/MASContactCalculator/.venv/lib/python3.12/site-packages/MDAnalysis/coordinates/chain.py:270\u001b[0m, in \u001b[0;36mChainReader.__init__\u001b[0;34m(self, filenames, skip, dt, continuous, convert_units, **kwargs)\u001b[0m\n\u001b[1;32m    269\u001b[0m     kwargs[\u001b[38;5;124m'\u001b[39m\u001b[38;5;124mdt\u001b[39m\u001b[38;5;124m'\u001b[39m] \u001b[38;5;241m=\u001b[39m dt\n\u001b[0;32m--> 270\u001b[0m \u001b[38;5;28mself\u001b[39m\u001b[38;5;241m.\u001b[39mreaders \u001b[38;5;241m=\u001b[39m [\u001b[43mcore\u001b[49m\u001b[38;5;241;43m.\u001b[39;49m\u001b[43mreader\u001b[49m\u001b[43m(\u001b[49m\u001b[43mfilename\u001b[49m\u001b[43m,\u001b[49m\u001b[43m \u001b[49m\u001b[43mconvert_units\u001b[49m\u001b[38;5;241;43m=\u001b[39;49m\u001b[43mconvert_units\u001b[49m\u001b[43m,\u001b[49m\u001b[43m \u001b[49m\u001b[38;5;241;43m*\u001b[39;49m\u001b[38;5;241;43m*\u001b[39;49m\u001b[43mkwargs\u001b[49m\u001b[43m)\u001b[49m\n\u001b[1;32m    271\u001b[0m                 \u001b[38;5;28;01mfor\u001b[39;00m filename \u001b[38;5;129;01min\u001b[39;00m filenames]\n\u001b[1;32m    272\u001b[0m \u001b[38;5;28mself\u001b[39m\u001b[38;5;241m.\u001b[39mfilenames \u001b[38;5;241m=\u001b[39m np\u001b[38;5;241m.\u001b[39marray([fn[\u001b[38;5;241m0\u001b[39m] \u001b[38;5;28;01mif\u001b[39;00m \u001b[38;5;28misinstance\u001b[39m(fn, \u001b[38;5;28mtuple\u001b[39m) \u001b[38;5;28;01melse\u001b[39;00m fn\n\u001b[1;32m    273\u001b[0m                                                 \u001b[38;5;28;01mfor\u001b[39;00m fn \u001b[38;5;129;01min\u001b[39;00m filenames])\n",
      "File \u001b[0;32m~/PycharmProjects/MASContactCalculator/.venv/lib/python3.12/site-packages/MDAnalysis/coordinates/core.py:82\u001b[0m, in \u001b[0;36mreader\u001b[0;34m(filename, format, **kwargs)\u001b[0m\n\u001b[1;32m     81\u001b[0m \u001b[38;5;28;01mtry\u001b[39;00m:\n\u001b[0;32m---> 82\u001b[0m     \u001b[38;5;28;01mreturn\u001b[39;00m \u001b[43mReader\u001b[49m\u001b[43m(\u001b[49m\u001b[43mfilename\u001b[49m\u001b[43m,\u001b[49m\u001b[43m \u001b[49m\u001b[38;5;241;43m*\u001b[39;49m\u001b[38;5;241;43m*\u001b[39;49m\u001b[43mkwargs\u001b[49m\u001b[43m)\u001b[49m\n\u001b[1;32m     83\u001b[0m \u001b[38;5;28;01mexcept\u001b[39;00m \u001b[38;5;167;01mValueError\u001b[39;00m:\n",
      "File \u001b[0;32m~/PycharmProjects/MASContactCalculator/.venv/lib/python3.12/site-packages/MDAnalysis/lib/util.py:2553\u001b[0m, in \u001b[0;36mstore_init_arguments.<locals>.wrapper\u001b[0;34m(self, *args, **kwargs)\u001b[0m\n\u001b[1;32m   2552\u001b[0m                 \u001b[38;5;28mself\u001b[39m\u001b[38;5;241m.\u001b[39m_kwargs[key] \u001b[38;5;241m=\u001b[39m arg\n\u001b[0;32m-> 2553\u001b[0m \u001b[38;5;28;01mreturn\u001b[39;00m \u001b[43mfunc\u001b[49m\u001b[43m(\u001b[49m\u001b[38;5;28;43mself\u001b[39;49m\u001b[43m,\u001b[49m\u001b[43m \u001b[49m\u001b[38;5;241;43m*\u001b[39;49m\u001b[43margs\u001b[49m\u001b[43m,\u001b[49m\u001b[43m \u001b[49m\u001b[38;5;241;43m*\u001b[39;49m\u001b[38;5;241;43m*\u001b[39;49m\u001b[43mkwargs\u001b[49m\u001b[43m)\u001b[49m\n",
      "File \u001b[0;32m~/PycharmProjects/MASContactCalculator/.venv/lib/python3.12/site-packages/MDAnalysis/coordinates/DCD.py:144\u001b[0m, in \u001b[0;36mDCDReader.__init__\u001b[0;34m(self, filename, convert_units, dt, **kwargs)\u001b[0m\n\u001b[1;32m    142\u001b[0m \u001b[38;5;28msuper\u001b[39m(DCDReader, \u001b[38;5;28mself\u001b[39m)\u001b[38;5;241m.\u001b[39m\u001b[38;5;21m__init__\u001b[39m(\n\u001b[1;32m    143\u001b[0m     filename, convert_units\u001b[38;5;241m=\u001b[39mconvert_units, \u001b[38;5;241m*\u001b[39m\u001b[38;5;241m*\u001b[39mkwargs)\n\u001b[0;32m--> 144\u001b[0m \u001b[38;5;28mself\u001b[39m\u001b[38;5;241m.\u001b[39m_file \u001b[38;5;241m=\u001b[39m \u001b[43mDCDFile\u001b[49m\u001b[43m(\u001b[49m\u001b[38;5;28;43mself\u001b[39;49m\u001b[38;5;241;43m.\u001b[39;49m\u001b[43mfilename\u001b[49m\u001b[43m)\u001b[49m\n\u001b[1;32m    145\u001b[0m \u001b[38;5;28mself\u001b[39m\u001b[38;5;241m.\u001b[39mn_atoms \u001b[38;5;241m=\u001b[39m \u001b[38;5;28mself\u001b[39m\u001b[38;5;241m.\u001b[39m_file\u001b[38;5;241m.\u001b[39mheader[\u001b[38;5;124m'\u001b[39m\u001b[38;5;124mnatoms\u001b[39m\u001b[38;5;124m'\u001b[39m]\n",
      "File \u001b[0;32m~/PycharmProjects/MASContactCalculator/.venv/lib/python3.12/site-packages/MDAnalysis/lib/formats/libdcd.pyx:168\u001b[0m, in \u001b[0;36mMDAnalysis.lib.formats.libdcd.DCDFile.__cinit__\u001b[0;34m()\u001b[0m\n",
      "File \u001b[0;32m~/PycharmProjects/MASContactCalculator/.venv/lib/python3.12/site-packages/MDAnalysis/lib/formats/libdcd.pyx:275\u001b[0m, in \u001b[0;36mMDAnalysis.lib.formats.libdcd.DCDFile.open\u001b[0;34m()\u001b[0m\n",
      "File \u001b[0;32m~/PycharmProjects/MASContactCalculator/.venv/lib/python3.12/site-packages/MDAnalysis/lib/formats/libdcd.pyx:312\u001b[0m, in \u001b[0;36mMDAnalysis.lib.formats.libdcd.DCDFile._read_header\u001b[0;34m()\u001b[0m\n",
      "\u001b[0;31mOSError\u001b[0m: Reading DCD header failed: premature EOF found in DCD file",
      "\nDuring handling of the above exception, another exception occurred:\n",
      "\u001b[0;31mKeyboardInterrupt\u001b[0m                         Traceback (most recent call last)",
      "Cell \u001b[0;32mIn[7], line 2\u001b[0m\n\u001b[1;32m      1\u001b[0m arguments \u001b[38;5;241m=\u001b[39m \u001b[38;5;124mf\u001b[39m\u001b[38;5;124m\"\u001b[39m\u001b[38;5;124m-sys \u001b[39m\u001b[38;5;132;01m{\u001b[39;00msystem\u001b[38;5;132;01m}\u001b[39;00m\u001b[38;5;124m -dir \u001b[39m\u001b[38;5;132;01m{\u001b[39;00mworkingDir\u001b[38;5;132;01m}\u001b[39;00m\u001b[38;5;124m -dt \u001b[39m\u001b[38;5;132;01m{\u001b[39;00mtimestep\u001b[38;5;132;01m}\u001b[39;00m\u001b[38;5;124m\"\u001b[39m\n\u001b[0;32m----> 2\u001b[0m \u001b[43mget_ipython\u001b[49m\u001b[43m(\u001b[49m\u001b[43m)\u001b[49m\u001b[38;5;241;43m.\u001b[39;49m\u001b[43mrun_line_magic\u001b[49m\u001b[43m(\u001b[49m\u001b[38;5;124;43m'\u001b[39;49m\u001b[38;5;124;43mrun\u001b[39;49m\u001b[38;5;124;43m'\u001b[39;49m\u001b[43m,\u001b[49m\u001b[43m \u001b[49m\u001b[38;5;124;43m'\u001b[39;49m\u001b[38;5;124;43m01_get_contact_matrix/run.py $arguments\u001b[39;49m\u001b[38;5;124;43m'\u001b[39;49m\u001b[43m)\u001b[49m\n",
      "File \u001b[0;32m~/PycharmProjects/MASContactCalculator/.venv/lib/python3.12/site-packages/IPython/core/interactiveshell.py:2480\u001b[0m, in \u001b[0;36mInteractiveShell.run_line_magic\u001b[0;34m(self, magic_name, line, _stack_depth)\u001b[0m\n\u001b[1;32m   2478\u001b[0m     kwargs[\u001b[38;5;124m'\u001b[39m\u001b[38;5;124mlocal_ns\u001b[39m\u001b[38;5;124m'\u001b[39m] \u001b[38;5;241m=\u001b[39m \u001b[38;5;28mself\u001b[39m\u001b[38;5;241m.\u001b[39mget_local_scope(stack_depth)\n\u001b[1;32m   2479\u001b[0m \u001b[38;5;28;01mwith\u001b[39;00m \u001b[38;5;28mself\u001b[39m\u001b[38;5;241m.\u001b[39mbuiltin_trap:\n\u001b[0;32m-> 2480\u001b[0m     result \u001b[38;5;241m=\u001b[39m \u001b[43mfn\u001b[49m\u001b[43m(\u001b[49m\u001b[38;5;241;43m*\u001b[39;49m\u001b[43margs\u001b[49m\u001b[43m,\u001b[49m\u001b[43m \u001b[49m\u001b[38;5;241;43m*\u001b[39;49m\u001b[38;5;241;43m*\u001b[39;49m\u001b[43mkwargs\u001b[49m\u001b[43m)\u001b[49m\n\u001b[1;32m   2482\u001b[0m \u001b[38;5;66;03m# The code below prevents the output from being displayed\u001b[39;00m\n\u001b[1;32m   2483\u001b[0m \u001b[38;5;66;03m# when using magics with decorator @output_can_be_silenced\u001b[39;00m\n\u001b[1;32m   2484\u001b[0m \u001b[38;5;66;03m# when the last Python token in the expression is a ';'.\u001b[39;00m\n\u001b[1;32m   2485\u001b[0m \u001b[38;5;28;01mif\u001b[39;00m \u001b[38;5;28mgetattr\u001b[39m(fn, magic\u001b[38;5;241m.\u001b[39mMAGIC_OUTPUT_CAN_BE_SILENCED, \u001b[38;5;28;01mFalse\u001b[39;00m):\n",
      "File \u001b[0;32m~/PycharmProjects/MASContactCalculator/.venv/lib/python3.12/site-packages/IPython/core/magics/execution.py:849\u001b[0m, in \u001b[0;36mExecutionMagics.run\u001b[0;34m(self, parameter_s, runner, file_finder)\u001b[0m\n\u001b[1;32m    846\u001b[0m             \u001b[38;5;28mself\u001b[39m\u001b[38;5;241m.\u001b[39m_run_with_timing(run, nruns)\n\u001b[1;32m    847\u001b[0m         \u001b[38;5;28;01melse\u001b[39;00m:\n\u001b[1;32m    848\u001b[0m             \u001b[38;5;66;03m# regular execution\u001b[39;00m\n\u001b[0;32m--> 849\u001b[0m             \u001b[43mrun\u001b[49m\u001b[43m(\u001b[49m\u001b[43m)\u001b[49m\n\u001b[1;32m    851\u001b[0m \u001b[38;5;28;01mif\u001b[39;00m \u001b[38;5;124m'\u001b[39m\u001b[38;5;124mi\u001b[39m\u001b[38;5;124m'\u001b[39m \u001b[38;5;129;01min\u001b[39;00m opts:\n\u001b[1;32m    852\u001b[0m     \u001b[38;5;28mself\u001b[39m\u001b[38;5;241m.\u001b[39mshell\u001b[38;5;241m.\u001b[39muser_ns[\u001b[38;5;124m'\u001b[39m\u001b[38;5;124m__name__\u001b[39m\u001b[38;5;124m'\u001b[39m] \u001b[38;5;241m=\u001b[39m __name__save\n",
      "File \u001b[0;32m~/PycharmProjects/MASContactCalculator/.venv/lib/python3.12/site-packages/IPython/core/magics/execution.py:834\u001b[0m, in \u001b[0;36mExecutionMagics.run.<locals>.run\u001b[0;34m()\u001b[0m\n\u001b[1;32m    833\u001b[0m \u001b[38;5;28;01mdef\u001b[39;00m \u001b[38;5;21mrun\u001b[39m():\n\u001b[0;32m--> 834\u001b[0m     \u001b[43mrunner\u001b[49m\u001b[43m(\u001b[49m\u001b[43mfilename\u001b[49m\u001b[43m,\u001b[49m\u001b[43m \u001b[49m\u001b[43mprog_ns\u001b[49m\u001b[43m,\u001b[49m\u001b[43m \u001b[49m\u001b[43mprog_ns\u001b[49m\u001b[43m,\u001b[49m\n\u001b[1;32m    835\u001b[0m \u001b[43m            \u001b[49m\u001b[43mexit_ignore\u001b[49m\u001b[38;5;241;43m=\u001b[39;49m\u001b[43mexit_ignore\u001b[49m\u001b[43m)\u001b[49m\n",
      "File \u001b[0;32m~/PycharmProjects/MASContactCalculator/.venv/lib/python3.12/site-packages/IPython/core/interactiveshell.py:2954\u001b[0m, in \u001b[0;36mInteractiveShell.safe_execfile\u001b[0;34m(self, fname, exit_ignore, raise_exceptions, shell_futures, *where)\u001b[0m\n\u001b[1;32m   2952\u001b[0m     \u001b[38;5;28;01mraise\u001b[39;00m\n\u001b[1;32m   2953\u001b[0m \u001b[38;5;66;03m# tb offset is 2 because we wrap execfile\u001b[39;00m\n\u001b[0;32m-> 2954\u001b[0m \u001b[38;5;28;43mself\u001b[39;49m\u001b[38;5;241;43m.\u001b[39;49m\u001b[43mshowtraceback\u001b[49m\u001b[43m(\u001b[49m\u001b[43mtb_offset\u001b[49m\u001b[38;5;241;43m=\u001b[39;49m\u001b[38;5;241;43m2\u001b[39;49m\u001b[43m)\u001b[49m\n",
      "File \u001b[0;32m~/PycharmProjects/MASContactCalculator/.venv/lib/python3.12/site-packages/IPython/core/interactiveshell.py:2115\u001b[0m, in \u001b[0;36mInteractiveShell.showtraceback\u001b[0;34m(self, exc_tuple, filename, tb_offset, exception_only, running_compiled_code)\u001b[0m\n\u001b[1;32m   2112\u001b[0m     msg \u001b[38;5;241m=\u001b[39m traceback\u001b[38;5;241m.\u001b[39mformat_exception_only(etype, value)\n\u001b[1;32m   2113\u001b[0m     \u001b[38;5;28;01mreturn\u001b[39;00m \u001b[38;5;124m'\u001b[39m\u001b[38;5;124m'\u001b[39m\u001b[38;5;241m.\u001b[39mjoin(msg)\n\u001b[0;32m-> 2115\u001b[0m \u001b[38;5;28;01mdef\u001b[39;00m \u001b[38;5;21mshowtraceback\u001b[39m(\u001b[38;5;28mself\u001b[39m, exc_tuple\u001b[38;5;241m=\u001b[39m\u001b[38;5;28;01mNone\u001b[39;00m, filename\u001b[38;5;241m=\u001b[39m\u001b[38;5;28;01mNone\u001b[39;00m, tb_offset\u001b[38;5;241m=\u001b[39m\u001b[38;5;28;01mNone\u001b[39;00m,\n\u001b[1;32m   2116\u001b[0m                   exception_only\u001b[38;5;241m=\u001b[39m\u001b[38;5;28;01mFalse\u001b[39;00m, running_compiled_code\u001b[38;5;241m=\u001b[39m\u001b[38;5;28;01mFalse\u001b[39;00m):\n\u001b[1;32m   2117\u001b[0m \u001b[38;5;250m    \u001b[39m\u001b[38;5;124;03m\"\"\"Display the exception that just occurred.\u001b[39;00m\n\u001b[1;32m   2118\u001b[0m \n\u001b[1;32m   2119\u001b[0m \u001b[38;5;124;03m    If nothing is known about the exception, this is the method which\u001b[39;00m\n\u001b[0;32m   (...)\u001b[0m\n\u001b[1;32m   2125\u001b[0m \u001b[38;5;124;03m    SyntaxError exception, don't try to analyze the stack manually and\u001b[39;00m\n\u001b[1;32m   2126\u001b[0m \u001b[38;5;124;03m    simply call this method.\"\"\"\u001b[39;00m\n\u001b[1;32m   2128\u001b[0m     \u001b[38;5;28;01mtry\u001b[39;00m:\n",
      "\u001b[0;31mKeyboardInterrupt\u001b[0m: "
     ]
    }
   ],
   "source": [
    "arguments = f\"-sys {system} -dir {workingDir} -dt {timestep}\"\n",
    "%run 01_get_contact_matrix/run.py $arguments"
   ]
  },
  {
   "cell_type": "markdown",
   "id": "5e9e6372b733e43e",
   "metadata": {},
   "source": [
    "## Step 2 - Apply Distance Threshhold\n",
    "\n",
    "Iterate over the second half of each trajectory, record the indeces corresponding to atom pairs that are within the cutoff at least ONCE.\n",
    "\n",
    "INPUT -> the ```.npy``` files found at ```01_get_contact_matrix/output``` <br>\n",
    "OUTPUT ->  a ```.txt``` file of the form ```output/WNT{wnt_protein_name}_idx_thresh{threshhold}.txt```. This file contains the column indeces of contact pairs (from ```01_get_contact_matrix/output```) that are within the threshhold."
   ]
  },
  {
   "cell_type": "code",
   "execution_count": 19,
   "id": "2735db4a1107d6a",
   "metadata": {
    "ExecuteTime": {
     "end_time": "2024-07-14T00:04:09.512219Z",
     "start_time": "2024-07-14T00:03:21.600592Z"
    }
   },
   "outputs": [
    {
     "name": "stdout",
     "output_type": "stream",
     "text": [
      "['WNT5a_distances_iter0.npy', 'WNT5a_distances_iter1.npy', 'WNT5a_distances_iter2.npy', 'WNT5a_distances_iter3.npy', 'WNT5a_distances_iter4.npy', 'WNT5a_distances_iter5.npy', 'WNT5a_distances_iter6.npy', 'WNT5a_distances_iter7.npy', 'WNT5a_distances_iter8.npy', 'WNT5a_distances_iter9.npy', 'WNT5a_distances_iter10.npy', 'WNT5a_distances_iter11.npy', 'WNT5a_distances_iter12.npy', 'WNT5a_distances_iter13.npy', 'WNT5a_distances_iter14.npy', 'WNT5a_distances_iter15.npy', 'WNT5a_distances_iter16.npy', 'WNT5a_distances_iter17.npy', 'WNT5a_distances_iter18.npy', 'WNT5a_distances_iter19.npy', 'WNT5a_distances_iter20.npy', 'WNT5a_distances_iter21.npy', 'WNT5a_distances_iter22.npy', 'WNT5a_distances_iter23.npy', 'WNT5a_distances_iter24.npy', 'WNT5a_distances_iter25.npy', 'WNT5a_distances_iter26.npy', 'WNT5a_distances_iter27.npy', 'WNT5a_distances_iter28.npy', 'WNT5a_distances_iter29.npy', 'WNT5a_distances_iter30.npy', 'WNT5a_distances_iter31.npy', 'WNT5a_distances_iter32.npy', 'WNT5a_distances_iter33.npy', 'WNT5a_distances_iter34.npy', 'WNT5a_distances_iter35.npy', 'WNT5a_distances_iter36.npy', 'WNT5a_distances_iter37.npy', 'WNT5a_distances_iter38.npy', 'WNT5a_distances_iter39.npy', 'WNT5a_distances_iter40.npy', 'WNT5a_distances_iter41.npy', 'WNT5a_distances_iter42.npy', 'WNT5a_distances_iter43.npy', 'WNT5a_distances_iter44.npy', 'WNT5a_distances_iter45.npy', 'WNT5a_distances_iter46.npy', 'WNT5a_distances_iter47.npy', 'WNT5a_distances_iter48.npy', 'WNT5a_distances_iter49.npy', 'WNT5a_distances_iter50.npy', 'WNT5a_distances_iter51.npy', 'WNT5a_distances_iter52.npy', 'WNT5a_distances_iter53.npy', 'WNT5a_distances_iter54.npy', 'WNT5a_distances_iter55.npy', 'WNT5a_distances_iter56.npy', 'WNT5a_distances_iter57.npy', 'WNT5a_distances_iter58.npy', 'WNT5a_distances_iter59.npy', 'WNT5a_distances_iter60.npy', 'WNT5a_distances_iter61.npy', 'WNT5a_distances_iter62.npy', 'WNT5a_distances_iter63.npy', 'WNT5a_distances_iter64.npy', 'WNT5a_distances_iter65.npy', 'WNT5a_distances_iter66.npy', 'WNT5a_distances_iter67.npy', 'WNT5a_distances_iter68.npy', 'WNT5a_distances_iter69.npy', 'WNT5a_distances_iter70.npy', 'WNT5a_distances_iter71.npy', 'WNT5a_distances_iter72.npy', 'WNT5a_distances_iter73.npy', 'WNT5a_distances_iter74.npy', 'WNT5a_distances_iter75.npy', 'WNT5a_distances_iter76.npy', 'WNT5a_distances_iter77.npy', 'WNT5a_distances_iter78.npy', 'WNT5a_distances_iter79.npy', 'WNT5a_distances_iter80.npy', 'WNT5a_distances_iter81.npy', 'WNT5a_distances_iter82.npy', 'WNT5a_distances_iter83.npy', 'WNT5a_distances_iter84.npy', 'WNT5a_distances_iter85.npy', 'WNT5a_distances_iter86.npy', 'WNT5a_distances_iter87.npy', 'WNT5a_distances_iter88.npy', 'WNT5a_distances_iter89.npy', 'WNT5a_distances_iter90.npy', 'WNT5a_distances_iter91.npy', 'WNT5a_distances_iter92.npy', 'WNT5a_distances_iter93.npy', 'WNT5a_distances_iter94.npy', 'WNT5a_distances_iter95.npy', 'WNT5a_distances_iter96.npy', 'WNT5a_distances_iter97.npy', 'WNT5a_distances_iter98.npy', 'WNT5a_distances_iter99.npy', 'WNT5a_distances_iter100.npy', 'WNT5a_distances_iter101.npy', 'WNT5a_distances_iter102.npy', 'WNT5a_distances_iter103.npy', 'WNT5a_distances_iter104.npy']\n",
      "Number of frames currently read in: 36893 (737.86 ns) -> Start at frame 37500 (750.0 ns)\n",
      "Number of frames read in: 37758 (755.16 ns)\n",
      "Number of frames read in: 38706 (774.12 ns)\n",
      "Number of frames read in: 39616 (792.32 ns)\n",
      "Number of frames read in: 40561 (811.22 ns)\n",
      "Number of frames read in: 41505 (830.1 ns)\n",
      "Number of frames read in: 42377 (847.54 ns)\n",
      "Number of frames read in: 42952 (859.04 ns)\n",
      "Number of frames read in: 43863 (877.26 ns)\n",
      "Number of frames read in: 44805 (896.1 ns)\n",
      "Number of frames read in: 45747 (914.94 ns)\n",
      "Number of frames read in: 46691 (933.82 ns)\n",
      "Number of frames read in: 47570 (951.4 ns)\n",
      "Number of frames read in: 48504 (970.08 ns)\n",
      "Number of frames read in: 49445 (988.9 ns)\n",
      "Number of frames read in: 50336 (1006.72 ns)\n",
      "Number of frames read in: 51263 (1025.26 ns)\n",
      "Number of frames read in: 52130 (1042.6 ns)\n",
      "Number of frames read in: 53056 (1061.12 ns)\n",
      "Number of frames read in: 53941 (1078.82 ns)\n",
      "Number of frames read in: 54861 (1097.22 ns)\n",
      "Number of frames read in: 55778 (1115.56 ns)\n",
      "Number of frames read in: 56715 (1134.3 ns)\n",
      "Number of frames read in: 57631 (1152.62 ns)\n",
      "Number of frames read in: 58571 (1171.42 ns)\n",
      "Number of frames read in: 59460 (1189.2 ns)\n",
      "Number of frames read in: 60114 (1202.28 ns)\n",
      "Number of frames read in: 61036 (1220.72 ns)\n",
      "Number of frames read in: 61908 (1238.16 ns)\n",
      "Number of frames read in: 62845 (1256.9 ns)\n",
      "Number of frames read in: 63728 (1274.56 ns)\n",
      "Number of frames read in: 64605 (1292.1 ns)\n",
      "Number of frames read in: 65540 (1310.8 ns)\n",
      "Number of frames read in: 66460 (1329.2 ns)\n",
      "Number of frames read in: 67406 (1348.12 ns)\n",
      "Number of frames read in: 68291 (1365.82 ns)\n",
      "Number of frames read in: 69143 (1382.86 ns)\n",
      "Number of frames read in: 69483 (1389.66 ns)\n",
      "Number of frames read in: 70424 (1408.48 ns)\n",
      "Number of frames read in: 71304 (1426.08 ns)\n",
      "Number of frames read in: 72239 (1444.78 ns)\n",
      "Number of frames read in: 73168 (1463.36 ns)\n",
      "Number of frames read in: 74043 (1480.86 ns)\n",
      "Number of frames read in: 74904 (1498.08 ns) -> End at frame 75000 (1500.0 ns)\n"
     ]
    }
   ],
   "source": [
    "arguments = f\"-sys {system} -cutoff {cutoff} -dir {workingDir} -dt {timestep} -tf {tFinal}\"\n",
    "#%run 02_apply_threshhold/run.py $arguments\n",
    "%run 02_apply_threshhold/run.py $arguments"
   ]
  },
  {
   "cell_type": "markdown",
   "id": "cc05e3d5ad3f6810",
   "metadata": {},
   "source": [
    "## Step 3 - Finalize Dataset\n",
    "\n",
    "Given the indeces of the C-$\\alpha$ atom pairs that are within the distance threshhold, parse the original dataset generated from step 1 - keep only the atom pairs within the distance threshhold.\n",
    "\n",
    "INPUT -> the `.npy` files found at `01_get_contact_matrix/output` and the  `.txt` files found at `02_apply_threshhold/output` <br>\n",
    "OUTPUT:<br>\n",
    "1.   `.txt` file of the form `WNT{wnt_protein_name}_threshhold{threshhold}_labels.txt` (a list of the column names of the pased matrix)\n",
    "2.  `.npy` file of the form `WNT{wnt_protein_name}_threshhold{threshhold}_matrix.npy` (this is the matrix that only contains the contact pairs within the threshhold)\n"
   ]
  },
  {
   "cell_type": "code",
   "execution_count": 20,
   "id": "initial_id",
   "metadata": {
    "ExecuteTime": {
     "end_time": "2024-07-14T00:09:27.499134Z",
     "start_time": "2024-07-14T00:04:09.514236Z"
    }
   },
   "outputs": [
    {
     "name": "stdout",
     "output_type": "stream",
     "text": [
      "['WNT5a_distances_iter0.npy', 'WNT5a_distances_iter1.npy', 'WNT5a_distances_iter2.npy', 'WNT5a_distances_iter3.npy', 'WNT5a_distances_iter4.npy', 'WNT5a_distances_iter5.npy', 'WNT5a_distances_iter6.npy', 'WNT5a_distances_iter7.npy', 'WNT5a_distances_iter8.npy', 'WNT5a_distances_iter9.npy', 'WNT5a_distances_iter10.npy', 'WNT5a_distances_iter11.npy', 'WNT5a_distances_iter12.npy', 'WNT5a_distances_iter13.npy', 'WNT5a_distances_iter14.npy', 'WNT5a_distances_iter15.npy', 'WNT5a_distances_iter16.npy', 'WNT5a_distances_iter17.npy', 'WNT5a_distances_iter18.npy', 'WNT5a_distances_iter19.npy', 'WNT5a_distances_iter20.npy', 'WNT5a_distances_iter21.npy', 'WNT5a_distances_iter22.npy', 'WNT5a_distances_iter23.npy', 'WNT5a_distances_iter24.npy', 'WNT5a_distances_iter25.npy', 'WNT5a_distances_iter26.npy', 'WNT5a_distances_iter27.npy', 'WNT5a_distances_iter28.npy', 'WNT5a_distances_iter29.npy', 'WNT5a_distances_iter30.npy', 'WNT5a_distances_iter31.npy', 'WNT5a_distances_iter32.npy', 'WNT5a_distances_iter33.npy', 'WNT5a_distances_iter34.npy', 'WNT5a_distances_iter35.npy', 'WNT5a_distances_iter36.npy', 'WNT5a_distances_iter37.npy', 'WNT5a_distances_iter38.npy', 'WNT5a_distances_iter39.npy', 'WNT5a_distances_iter40.npy', 'WNT5a_distances_iter41.npy', 'WNT5a_distances_iter42.npy', 'WNT5a_distances_iter43.npy', 'WNT5a_distances_iter44.npy', 'WNT5a_distances_iter45.npy', 'WNT5a_distances_iter46.npy', 'WNT5a_distances_iter47.npy', 'WNT5a_distances_iter48.npy', 'WNT5a_distances_iter49.npy', 'WNT5a_distances_iter50.npy', 'WNT5a_distances_iter51.npy', 'WNT5a_distances_iter52.npy', 'WNT5a_distances_iter53.npy', 'WNT5a_distances_iter54.npy', 'WNT5a_distances_iter55.npy', 'WNT5a_distances_iter56.npy', 'WNT5a_distances_iter57.npy', 'WNT5a_distances_iter58.npy', 'WNT5a_distances_iter59.npy', 'WNT5a_distances_iter60.npy', 'WNT5a_distances_iter61.npy', 'WNT5a_distances_iter62.npy', 'WNT5a_distances_iter63.npy', 'WNT5a_distances_iter64.npy', 'WNT5a_distances_iter65.npy', 'WNT5a_distances_iter66.npy', 'WNT5a_distances_iter67.npy', 'WNT5a_distances_iter68.npy', 'WNT5a_distances_iter69.npy', 'WNT5a_distances_iter70.npy', 'WNT5a_distances_iter71.npy', 'WNT5a_distances_iter72.npy', 'WNT5a_distances_iter73.npy', 'WNT5a_distances_iter74.npy', 'WNT5a_distances_iter75.npy', 'WNT5a_distances_iter76.npy', 'WNT5a_distances_iter77.npy', 'WNT5a_distances_iter78.npy', 'WNT5a_distances_iter79.npy', 'WNT5a_distances_iter80.npy', 'WNT5a_distances_iter81.npy', 'WNT5a_distances_iter82.npy', 'WNT5a_distances_iter83.npy', 'WNT5a_distances_iter84.npy', 'WNT5a_distances_iter85.npy', 'WNT5a_distances_iter86.npy', 'WNT5a_distances_iter87.npy', 'WNT5a_distances_iter88.npy', 'WNT5a_distances_iter89.npy', 'WNT5a_distances_iter90.npy', 'WNT5a_distances_iter91.npy', 'WNT5a_distances_iter92.npy', 'WNT5a_distances_iter93.npy', 'WNT5a_distances_iter94.npy', 'WNT5a_distances_iter95.npy', 'WNT5a_distances_iter96.npy', 'WNT5a_distances_iter97.npy', 'WNT5a_distances_iter98.npy', 'WNT5a_distances_iter99.npy', 'WNT5a_distances_iter100.npy', 'WNT5a_distances_iter101.npy', 'WNT5a_distances_iter102.npy', 'WNT5a_distances_iter103.npy', 'WNT5a_distances_iter104.npy']\n",
      "(865, 2395) 0 75000\n",
      "Number of frames read in: 0 (0.0 ns)\n",
      "(880, 2395) 865 75000\n",
      "Number of frames read in: 865 (17.3 ns)\n",
      "(877, 2395) 1745 75000\n",
      "Number of frames read in: 1745 (34.9 ns)\n",
      "(950, 2395) 2622 75000\n",
      "Number of frames read in: 2622 (52.44 ns)\n",
      "(671, 2395) 3572 75000\n",
      "Number of frames read in: 3572 (71.44 ns)\n",
      "(930, 2395) 4243 75000\n",
      "Number of frames read in: 4243 (84.86 ns)\n",
      "(881, 2395) 5173 75000\n",
      "Number of frames read in: 5173 (103.46 ns)\n",
      "(867, 2395) 6054 75000\n",
      "Number of frames read in: 6054 (121.08 ns)\n",
      "(888, 2395) 6921 75000\n",
      "Number of frames read in: 6921 (138.42 ns)\n",
      "(938, 2395) 7809 75000\n",
      "Number of frames read in: 7809 (156.18 ns)\n",
      "(925, 2395) 8747 75000\n",
      "Number of frames read in: 8747 (174.94 ns)\n",
      "(930, 2395) 9672 75000\n",
      "Number of frames read in: 9672 (193.44 ns)\n",
      "(311, 2395) 10602 75000\n",
      "Number of frames read in: 10602 (212.04 ns)\n",
      "(848, 2395) 10913 75000\n",
      "Number of frames read in: 10913 (218.26 ns)\n",
      "(862, 2395) 11761 75000\n",
      "Number of frames read in: 11761 (235.22 ns)\n",
      "(840, 2395) 12623 75000\n",
      "Number of frames read in: 12623 (252.46 ns)\n",
      "(931, 2395) 13463 75000\n",
      "Number of frames read in: 13463 (269.26 ns)\n",
      "(875, 2395) 14394 75000\n",
      "Number of frames read in: 14394 (287.88 ns)\n",
      "(937, 2395) 15269 75000\n",
      "Number of frames read in: 15269 (305.38 ns)\n",
      "(925, 2395) 16206 75000\n",
      "Number of frames read in: 16206 (324.12 ns)\n",
      "(905, 2395) 17131 75000\n",
      "Number of frames read in: 17131 (342.62 ns)\n",
      "(891, 2395) 18036 75000\n",
      "Number of frames read in: 18036 (360.72 ns)\n",
      "(951, 2395) 18927 75000\n",
      "Number of frames read in: 18927 (378.54 ns)\n",
      "(821, 2395) 19878 75000\n",
      "Number of frames read in: 19878 (397.56 ns)\n",
      "(883, 2395) 20699 75000\n",
      "Number of frames read in: 20699 (413.98 ns)\n",
      "(880, 2395) 21582 75000\n",
      "Number of frames read in: 21582 (431.64 ns)\n",
      "(854, 2395) 22462 75000\n",
      "Number of frames read in: 22462 (449.24 ns)\n",
      "(385, 2395) 23316 75000\n",
      "Number of frames read in: 23316 (466.32 ns)\n",
      "(862, 2395) 23701 75000\n",
      "Number of frames read in: 23701 (474.02 ns)\n",
      "(868, 2395) 24563 75000\n",
      "Number of frames read in: 24563 (491.26 ns)\n",
      "(881, 2395) 25431 75000\n",
      "Number of frames read in: 25431 (508.62 ns)\n",
      "(949, 2395) 26312 75000\n",
      "Number of frames read in: 26312 (526.24 ns)\n",
      "(884, 2395) 27261 75000\n",
      "Number of frames read in: 27261 (545.22 ns)\n",
      "(898, 2395) 28145 75000\n",
      "Number of frames read in: 28145 (562.9 ns)\n",
      "(946, 2395) 29043 75000\n",
      "Number of frames read in: 29043 (580.86 ns)\n",
      "(923, 2395) 29989 75000\n",
      "Number of frames read in: 29989 (599.78 ns)\n",
      "(883, 2395) 30912 75000\n",
      "Number of frames read in: 30912 (618.24 ns)\n",
      "(880, 2395) 31795 75000\n",
      "Number of frames read in: 31795 (635.9 ns)\n",
      "(653, 2395) 32675 75000\n",
      "Number of frames read in: 32675 (653.5 ns)\n",
      "(941, 2395) 33328 75000\n",
      "Number of frames read in: 33328 (666.56 ns)\n",
      "(862, 2395) 34269 75000\n",
      "Number of frames read in: 34269 (685.38 ns)\n",
      "(882, 2395) 35131 75000\n",
      "Number of frames read in: 35131 (702.62 ns)\n",
      "(880, 2395) 36013 75000\n",
      "Number of frames read in: 36013 (720.26 ns)\n",
      "(865, 2395) 36893 75000\n",
      "Number of frames read in: 36893 (737.86 ns)\n",
      "(948, 2395) 37758 75000\n",
      "Number of frames read in: 37758 (755.16 ns)\n",
      "(910, 2395) 38706 75000\n",
      "Number of frames read in: 38706 (774.12 ns)\n",
      "(945, 2395) 39616 75000\n",
      "Number of frames read in: 39616 (792.32 ns)\n",
      "(944, 2395) 40561 75000\n",
      "Number of frames read in: 40561 (811.22 ns)\n",
      "(872, 2395) 41505 75000\n",
      "Number of frames read in: 41505 (830.1 ns)\n",
      "(575, 2395) 42377 75000\n",
      "Number of frames read in: 42377 (847.54 ns)\n",
      "(911, 2395) 42952 75000\n",
      "Number of frames read in: 42952 (859.04 ns)\n",
      "(942, 2395) 43863 75000\n",
      "Number of frames read in: 43863 (877.26 ns)\n",
      "(942, 2395) 44805 75000\n",
      "Number of frames read in: 44805 (896.1 ns)\n",
      "(944, 2395) 45747 75000\n",
      "Number of frames read in: 45747 (914.94 ns)\n",
      "(879, 2395) 46691 75000\n",
      "Number of frames read in: 46691 (933.82 ns)\n",
      "(934, 2395) 47570 75000\n",
      "Number of frames read in: 47570 (951.4 ns)\n",
      "(941, 2395) 48504 75000\n",
      "Number of frames read in: 48504 (970.08 ns)\n",
      "(891, 2395) 49445 75000\n",
      "Number of frames read in: 49445 (988.9 ns)\n",
      "(927, 2395) 50336 75000\n",
      "Number of frames read in: 50336 (1006.72 ns)\n",
      "(867, 2395) 51263 75000\n",
      "Number of frames read in: 51263 (1025.26 ns)\n",
      "(926, 2395) 52130 75000\n",
      "Number of frames read in: 52130 (1042.6 ns)\n",
      "(885, 2395) 53056 75000\n",
      "Number of frames read in: 53056 (1061.12 ns)\n",
      "(920, 2395) 53941 75000\n",
      "Number of frames read in: 53941 (1078.82 ns)\n",
      "(917, 2395) 54861 75000\n",
      "Number of frames read in: 54861 (1097.22 ns)\n",
      "(937, 2395) 55778 75000\n",
      "Number of frames read in: 55778 (1115.56 ns)\n",
      "(916, 2395) 56715 75000\n",
      "Number of frames read in: 56715 (1134.3 ns)\n",
      "(940, 2395) 57631 75000\n",
      "Number of frames read in: 57631 (1152.62 ns)\n",
      "(889, 2395) 58571 75000\n",
      "Number of frames read in: 58571 (1171.42 ns)\n",
      "(654, 2395) 59460 75000\n",
      "Number of frames read in: 59460 (1189.2 ns)\n",
      "(922, 2395) 60114 75000\n",
      "Number of frames read in: 60114 (1202.28 ns)\n",
      "(872, 2395) 61036 75000\n",
      "Number of frames read in: 61036 (1220.72 ns)\n",
      "(937, 2395) 61908 75000\n",
      "Number of frames read in: 61908 (1238.16 ns)\n",
      "(883, 2395) 62845 75000\n",
      "Number of frames read in: 62845 (1256.9 ns)\n",
      "(877, 2395) 63728 75000\n",
      "Number of frames read in: 63728 (1274.56 ns)\n",
      "(935, 2395) 64605 75000\n",
      "Number of frames read in: 64605 (1292.1 ns)\n",
      "(920, 2395) 65540 75000\n",
      "Number of frames read in: 65540 (1310.8 ns)\n",
      "(946, 2395) 66460 75000\n",
      "Number of frames read in: 66460 (1329.2 ns)\n",
      "(885, 2395) 67406 75000\n",
      "Number of frames read in: 67406 (1348.12 ns)\n",
      "(852, 2395) 68291 75000\n",
      "Number of frames read in: 68291 (1365.82 ns)\n",
      "(340, 2395) 69143 75000\n",
      "Number of frames read in: 69143 (1382.86 ns)\n",
      "(941, 2395) 69483 75000\n",
      "Number of frames read in: 69483 (1389.66 ns)\n",
      "(880, 2395) 70424 75000\n",
      "Number of frames read in: 70424 (1408.48 ns)\n",
      "(935, 2395) 71304 75000\n",
      "Number of frames read in: 71304 (1426.08 ns)\n",
      "(929, 2395) 72239 75000\n",
      "Number of frames read in: 72239 (1444.78 ns)\n",
      "(875, 2395) 73168 75000\n",
      "Number of frames read in: 73168 (1463.36 ns)\n",
      "(861, 2395) 74043 75000\n",
      "Number of frames read in: 74043 (1480.86 ns)\n",
      "(466, 2395) 74904 75000\n",
      "Number of frames currently read in: 74904 (1498.08 ns) -> Ending at 75000 (1500.0 ns)\n"
     ]
    }
   ],
   "source": [
    "arguments = f\"-sys {system} -cutoff {cutoff} -dir {workingDir} -dt {timestep} -tf {tFinal}\"\n",
    "%run 03_finalize_dataset/run.py $arguments"
   ]
  },
  {
   "cell_type": "markdown",
   "id": "56147f799111ac78",
   "metadata": {},
   "source": [
    "## Step 4 - Map\n",
    "\n",
    "Input:<br>\n",
    "1. The maps at ```00_map/output/{wnt_from}_to_{wnt_to}.csv``` (where we are mapping the indeces from ```wnt_from``` to ```wnt_to```). This structure is a 3 column csv. First column contains the indeces of ```wnt_from``` and the second column contains the indeces of ```wnt_to``` that is the best map.\n",
    "\n",
    "Output:<br>\n",
    "1. New labels at ```output/WNT{SYSTEM}_threshhold{distance_threshhold}_labels.txt```. These essentially replace the labels located in ```03_finalize_dataset```."
   ]
  },
  {
   "cell_type": "code",
   "execution_count": 32,
   "id": "f122420114212e6c",
   "metadata": {},
   "outputs": [
    {
     "name": "stdout",
     "output_type": "stream",
     "text": [
      "There are 2041 contact pairs in Wnt8a.\n",
      "After conversion, there are 2041 contact pairs in Wnt8a.\n",
      "136 unique contact pairs in Wnt8a and 237 unique pairs on WntLess.\n"
     ]
    }
   ],
   "source": [
    "arguments = f\"-sys {system} -cutoff {cutoff} -dir {workingDir}\"\n",
    "%run 04_map/run.py $arguments"
   ]
  },
  {
   "cell_type": "markdown",
   "id": "ca5ccd462611c47",
   "metadata": {},
   "source": [
    "## Step 5 - Combine\n",
    "\n",
    "Inputs:\n",
    "- the `txt` labels generated in `scripts/04_map/output`.\n",
    "- the `npy` matrix containing the contact pairs within the `12Å` threshold generated in `scripts/03_finalize_dataset/output`.  \n",
    "\n",
    "Output: ```output/ML_input.csv```, the final input containing contact distances for each frame # (rows) and each contact pair within the threshhold (column)."
   ]
  },
  {
   "cell_type": "code",
   "execution_count": null,
   "id": "ece9787aef9b4ec3",
   "metadata": {
    "ExecuteTime": {
     "start_time": "2024-08-05T21:10:22.540017Z"
    },
    "jupyter": {
     "is_executing": true
    }
   },
   "outputs": [],
   "source": [
    "arguments = f\"-cutoff {cutoff} -dir {workingDir}\"\n",
    "%run 05_combine/run.py $arguments\n"
   ]
  },
  {
   "cell_type": "markdown",
   "id": "58ca23b956a6d272",
   "metadata": {},
   "source": [
    "## Step 6 - Autocorrelation Function\n",
    "\n",
    "You can run ```run_acf.py``` to generate a set of autocorrelation functions for each of the features (stored as ```output/wnt{wnt_protein_name}_acf_t12_numpy.npy```). <br>\n",
    "Then, run ```plot_acf.py``` to average over all the individual autocorrelation function and plot the averaged ACF.\n",
    "\n",
    "## Step 7 - Preprocess\n",
    "This is a large jupyter notebook that reads in ```05_combine/output/ML_input.csv``` and performs the following steps. <br>\n",
    "1. Read in the input data\n",
    "2.  Do the train/test splits based on the ACF results\n",
    "3. Get the spearman correlation matrix for the training set\n",
    "4. Perform the clustering (first on indeces, second on spearman dstance matrix)\n",
    "5. Pull features for each subcluster and get the new train/test sets\n",
    "\n",
    "## Step 8 - Build the model\n",
    "Read the train data in and do grid search.\n",
    "\n",
    "## Step 9 - Evaluate the model\n",
    "Learning curve based on optimized hyperparameters."
   ]
  },
  {
   "cell_type": "code",
   "execution_count": null,
   "id": "507dd6b22b46b116",
   "metadata": {},
   "outputs": [],
   "source": []
  }
 ],
 "metadata": {
  "kernelspec": {
   "display_name": "Python [conda env:MDML-WntWLS] *",
   "language": "python",
   "name": "conda-env-MDML-WntWLS-py"
  },
  "language_info": {
   "codemirror_mode": {
    "name": "ipython",
    "version": 3
   },
   "file_extension": ".py",
   "mimetype": "text/x-python",
   "name": "python",
   "nbconvert_exporter": "python",
   "pygments_lexer": "ipython3",
   "version": "3.10.12"
  }
 },
 "nbformat": 4,
 "nbformat_minor": 5
}
