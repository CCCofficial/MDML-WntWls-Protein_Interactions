{
 "cells": [
  {
   "cell_type": "markdown",
   "id": "7212ffe6-548e-4b66-b088-53869a444cca",
   "metadata": {},
   "source": [
    "### Objective\n",
    "This notebook provides code to generate a `wnt.fasta` file of the aligned sequences for each Wnt."
   ]
  },
  {
   "cell_type": "code",
   "execution_count": 26,
   "id": "initial_id",
   "metadata": {
    "ExecuteTime": {
     "end_time": "2024-06-11T14:51:19.901596Z",
     "start_time": "2024-06-11T14:51:19.806018Z"
    }
   },
   "outputs": [],
   "source": [
    "import sys\n",
    "\n",
    "import numpy as np\n",
    "import MDAnalysis as mda\n",
    "\n",
    "def print_fasta(header, fasta, out):\n",
    "    with open(out, 'a') as handle:\n",
    "        handle.write('>' + header + '\\n')\n",
    "        handle.write(''.join(fasta) + '\\n')\n",
    "        \n"
   ]
  },
  {
   "cell_type": "code",
   "execution_count": 29,
   "id": "aa41e2aebe8c46ef",
   "metadata": {
    "ExecuteTime": {
     "end_time": "2024-06-11T14:52:43.932630Z",
     "start_time": "2024-06-11T14:52:43.649585Z"
    }
   },
   "outputs": [],
   "source": [
    "SYSTEM = [\"1a\",\"3a\",\"4a\",\"5a\",\"8a\"]\n",
    "for sys in SYSTEM: \n",
    "    file = f\"../00_map/input/Wnt{sys}_align.pdb\"\n",
    "    \n",
    "    u = mda.Universe(file)\n",
    "    fasta_str = \"\"\n",
    "    for i in u.residues:\n",
    "        if i.segid == \"PROA\":\n",
    "            if i.resname == \"SPL\":\n",
    "                curr = \"S\"\n",
    "            else:\n",
    "                curr = mda.lib.util.convert_aa_code(i.resname)\n",
    "            fasta_str += str(curr)\n",
    "    print_fasta(f\"WNT{sys}\", fasta_str, \"wnt.fasta\")"
   ]
  },
  {
   "cell_type": "code",
   "execution_count": 28,
   "id": "628be69842d0e7a9",
   "metadata": {
    "ExecuteTime": {
     "end_time": "2024-06-11T14:51:20.484911Z",
     "start_time": "2024-06-11T14:51:20.481587Z"
    }
   },
   "outputs": [],
   "source": [
    "print_fasta(f\"WNT{SYSTEM}\", fasta_str, \"wnt.fasta\")"
   ]
  }
 ],
 "metadata": {
  "kernelspec": {
   "display_name": "Python 3",
   "language": "python",
   "name": "python3"
  },
  "language_info": {
   "codemirror_mode": {
    "name": "ipython",
    "version": 2
   },
   "file_extension": ".py",
   "mimetype": "text/x-python",
   "name": "python",
   "nbconvert_exporter": "python",
   "pygments_lexer": "ipython2",
   "version": "2.7.6"
  }
 },
 "nbformat": 4,
 "nbformat_minor": 5
}
