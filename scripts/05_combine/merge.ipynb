{
 "cells": [
  {
   "cell_type": "markdown",
   "id": "b6fcae12-d4aa-4fb6-9d75-2e71a7b54833",
   "metadata": {},
   "source": [
    "### Objective \n",
    "Generates a Venn Diagram of contact pairs between all Wnts."
   ]
  },
  {
   "cell_type": "code",
   "execution_count": 3,
   "id": "a73f669fcfab03d8",
   "metadata": {
    "ExecuteTime": {
     "end_time": "2024-08-07T19:50:48.458520Z",
     "start_time": "2024-08-07T19:50:48.456206Z"
    },
    "collapsed": true,
    "jupyter": {
     "outputs_hidden": true
    }
   },
   "outputs": [],
   "source": [
    "import numpy as np"
   ]
  },
  {
   "cell_type": "code",
   "execution_count": 4,
   "id": "1277f8e0a47cfadb",
   "metadata": {
    "ExecuteTime": {
     "end_time": "2024-08-07T19:50:48.677872Z",
     "start_time": "2024-08-07T19:50:48.670483Z"
    }
   },
   "outputs": [],
   "source": [
    "# Cutoff distance\n",
    "distance_threshhold = 12\n",
    "\n",
    "wnt1_labels = np.loadtxt(f\"../04_map/output/WNT1_threshhold{distance_threshhold}_labels.txt\", dtype=str)\n",
    "wnt3a_labels = np.loadtxt(f\"../04_map/output/WNT3a_threshhold{distance_threshhold}_labels.txt\", dtype=str)\n",
    "wnt5a_labels = np.loadtxt(f\"../04_map/output/WNT5a_threshhold{distance_threshhold}_labels.txt\", dtype=str)\n",
    "ref_labels = np.loadtxt(f\"../04_map/output/WNT8a_threshhold{distance_threshhold}_labels.txt\", dtype=str)"
   ]
  },
  {
   "cell_type": "code",
   "execution_count": 7,
   "id": "df4ca19c3487c3b2",
   "metadata": {
    "ExecuteTime": {
     "end_time": "2024-08-07T19:51:05.091673Z",
     "start_time": "2024-08-07T19:51:05.089305Z"
    }
   },
   "outputs": [
    {
     "name": "stdout",
     "output_type": "stream",
     "text": [
      "Number of contacts for Wnt1: (2208,).\n",
      "Number of contacts for Wnt3a: (2019,).\n",
      "Number of contacts for Wnt5a: (2395,).\n",
      "Number of contacts for Wnt8a: (2041,).\n"
     ]
    }
   ],
   "source": [
    "print(f\"Number of contacts for Wnt1: {wnt1_labels.shape}.\")\n",
    "print(f\"Number of contacts for Wnt3a: {wnt3a_labels.shape}.\")\n",
    "print(f\"Number of contacts for Wnt5a: {wnt5a_labels.shape}.\")\n",
    "print(f\"Number of contacts for Wnt8a: {ref_labels.shape}.\")"
   ]
  },
  {
   "cell_type": "code",
   "execution_count": 1,
   "id": "b87a6c8a68151548",
   "metadata": {
    "ExecuteTime": {
     "end_time": "2024-08-07T19:49:55.981216Z",
     "start_time": "2024-08-07T19:49:55.892569Z"
    }
   },
   "outputs": [
    {
     "ename": "NameError",
     "evalue": "name 'wnt1_labels' is not defined",
     "output_type": "error",
     "traceback": [
      "\u001b[0;31m---------------------------------------------------------------------------\u001b[0m",
      "\u001b[0;31mNameError\u001b[0m                                 Traceback (most recent call last)",
      "Cell \u001b[0;32mIn[1], line 1\u001b[0m\n\u001b[0;32m----> 1\u001b[0m labels \u001b[38;5;241m=\u001b[39m [\u001b[43mwnt1_labels\u001b[49m, wnt3a_labels, wnt5a_labels, ref_labels]\n\u001b[1;32m      2\u001b[0m names \u001b[38;5;241m=\u001b[39m [\u001b[38;5;124m\"\u001b[39m\u001b[38;5;124mwnt1\u001b[39m\u001b[38;5;124m\"\u001b[39m, \u001b[38;5;124m\"\u001b[39m\u001b[38;5;124mwnt3a\u001b[39m\u001b[38;5;124m\"\u001b[39m, \u001b[38;5;124m\"\u001b[39m\u001b[38;5;124mwnt5a\u001b[39m\u001b[38;5;124m\"\u001b[39m, \u001b[38;5;124m\"\u001b[39m\u001b[38;5;124mwnt8a\u001b[39m\u001b[38;5;124m\"\u001b[39m]\n\u001b[1;32m      3\u001b[0m counts \u001b[38;5;241m=\u001b[39m np\u001b[38;5;241m.\u001b[39mzeros((\u001b[38;5;241m4\u001b[39m, \u001b[38;5;241m3\u001b[39m, \u001b[38;5;241m3\u001b[39m))\n",
      "\u001b[0;31mNameError\u001b[0m: name 'wnt1_labels' is not defined"
     ]
    }
   ],
   "source": [
    "labels = [wnt1_labels, wnt3a_labels, wnt5a_labels, ref_labels]\n",
    "names = [\"wnt1\", \"wnt3a\", \"wnt5a\", \"wnt8a\"]\n",
    "counts = np.zeros((4, 3, 3))\n",
    "for j in range(len(labels)):\n",
    "    l = [0,1,2,3]\n",
    "    l.remove(j)\n",
    "    for k1 in range(len(l)):\n",
    "        for k2 in range(len(l)):\n",
    "            k1_v = l[k1]\n",
    "            k2_v = l[k2]\n",
    "            for i in range(len(labels[j])):\n",
    "                if str(labels[j][i]) in labels[k1_v] and str(labels[j][i]) in labels[k2_v]:\n",
    "                    counts[j,k1,k2] += 1\n",
    "            print(f\"Counts for {names[j]} & {names[k1_v]} & {names[k2_v]}: {int(counts[j,k1,k2])} contact pairs.\")\n",
    "#print(counts)"
   ]
  },
  {
   "cell_type": "code",
   "execution_count": null,
   "id": "63953c6ce6311e17",
   "metadata": {},
   "outputs": [],
   "source": []
  }
 ],
 "metadata": {
  "kernelspec": {
   "display_name": "Python 3",
   "language": "python",
   "name": "python3"
  },
  "language_info": {
   "codemirror_mode": {
    "name": "ipython",
    "version": 2
   },
   "file_extension": ".py",
   "mimetype": "text/x-python",
   "name": "python",
   "nbconvert_exporter": "python",
   "pygments_lexer": "ipython2",
   "version": "2.7.6"
  }
 },
 "nbformat": 4,
 "nbformat_minor": 5
}
